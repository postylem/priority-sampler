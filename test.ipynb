{
  "cells": [
    {
      "cell_type": "raw",
      "metadata": {},
      "source": [
        "---\n",
        "title: Perturb-sort sampling playground\n",
        "author: Jacob Hoover Vigly\n",
        "date: today\n",
        "code-fold: true\n",
        "---"
      ]
    },
    {
      "cell_type": "code",
      "execution_count": 1,
      "metadata": {},
      "outputs": [],
      "source": [
        "%load_ext autoreload\n",
        "%autoreload complete --print"
      ]
    },
    {
      "cell_type": "code",
      "execution_count": 2,
      "metadata": {},
      "outputs": [],
      "source": [
        "from perturb_sort import PerturbSort, normalize\n",
        "import scipy, numpy as np, pandas as pd, plotly.express as px\n",
        "# pd.options.plotting.backend = \"plotly\"\n",
        "# import plotly.io as pio\n",
        "# pio.renderers.default = 'svg'"
      ]
    },
    {
      "cell_type": "code",
      "execution_count": 3,
      "metadata": {},
      "outputs": [
        {
          "data": {
            "application/vnd.plotly.v1+json": {
              "config": {
                "plotlyServerURL": "https://plot.ly"
              },
              "data": [
                {
                  "hovertemplate": "Value=%{x}<br>index=%{y}<extra></extra>",
                  "legendgroup": "",
                  "marker": {
                    "color": "#636efa",
                    "opacity": 0.4,
                    "size": 15,
                    "symbol": "diamond"
                  },
                  "mode": "markers",
                  "name": "",
                  "orientation": "v",
                  "showlegend": false,
                  "type": "scatter",
                  "x": {
                    "bdata": "wf4QNgDAoT8pCmwW7sSpP1B4DEP+SKo/Wuz+sUXLrT9PSY+wxfWuP3QURGPKXrM/oQJIt0Kmuj+oLoqlFeHBP5FSHq2xPsc/g4WLI/Q5zz8=",
                    "dtype": "f8"
                  },
                  "xaxis": "x",
                  "y": {
                    "bdata": "AAECAwQFBgcICQ==",
                    "dtype": "i1"
                  },
                  "yaxis": "y"
                },
                {
                  "error_x": {
                    "array": {
                      "bdata": "2JL0tENmdD8gWfgIB1Z/P3K7kiLdong/tb0hBe7NgT9nUTgppiN/PwSHDjA3AII/7ILmZ+CEhD9fkqh1/AiFP46Amp5qt5A/lBz6RuBCjD8=",
                      "dtype": "f8"
                    },
                    "type": "data"
                  },
                  "mode": "markers",
                  "name": "priorityTrue",
                  "opacity": 0.7,
                  "type": "scatter",
                  "x": {
                    "bdata": "eFRmipKEoT9/OF8tML+oP8OQbFmgXKc/PhC/iKEbrz/dYBn2ximtP4R6/T5sv7I/XzuegVIkuT+1kr6UEIDAP2WEfaIZvcg/q5ZcyUKwzD8=",
                    "dtype": "f8"
                  },
                  "y": {
                    "bdata": "mpmZmZmZyb+amZmZmZnpP83MzMzMzPw/ZmZmZmZmBkBmZmZmZmYOQDMzMzMzMxNAMzMzMzMzF0AzMzMzMzMbQDMzMzMzMx9AmpmZmZmZIUA=",
                    "dtype": "f8"
                  }
                },
                {
                  "error_x": {
                    "array": {
                      "bdata": "KLqaVDvPbD/VU3A7MW5wP7t10BxY43A/uu6UrzLPcT+0bvsXo3FyP0VcON1YjXQ/kJxAIKSHdz9vE91qvIl7PwJGLv08x38/dsmYYR7ggT8=",
                      "dtype": "f8"
                    },
                    "type": "data"
                  },
                  "mode": "markers",
                  "name": "priorityFalse",
                  "opacity": 0.7,
                  "type": "scatter",
                  "x": {
                    "bdata": "seHplbIMoT93LSEf9GymP+CcEaW9wac/GCZTBaOSqj9XW7G/7J6sPz81XrpJDLI/QfFjzF1LuD+si9toAG/BP0w3iUFg5cg/Ne84RUdy0T8=",
                    "dtype": "f8"
                  },
                  "y": {
                    "bdata": "mpmZmZmZub/NzMzMzMzsP2dmZmZmZv4/MzMzMzMzB0AzMzMzMzMPQJmZmZmZmRNAmZmZmZmZF0CZmZmZmZkbQJmZmZmZmR9AzczMzMzMIUA=",
                    "dtype": "f8"
                  }
                },
                {
                  "error_x": {
                    "array": {
                      "bdata": "QjiMKq82eD9aagb4pgZ+P+5j6KvjeYA/LeJrGpyajD8T4r49Ho97P0vBkWNz2IA/MXTaoIXsmj/S5bbPicaNPyIgQUbKk5E/QIgCVNrkiT8=",
                      "dtype": "f8"
                    },
                    "type": "data"
                  },
                  "mode": "markers",
                  "name": "expminTrue",
                  "opacity": 0.7,
                  "type": "scatter",
                  "x": {
                    "bdata": "96dK49D8oT+rAS6TZpqpPxzaX1/GwKk/pWbtt+9Fsj9IZ3YWkdirPzqIupA0y7M/h9cw4cV/uj/3Dlxd+trBP7Xr5+JoEcg/sjWajY3mzT8=",
                    "dtype": "f8"
                  },
                  "y": {
                    "bdata": "AAAAAAAAAAAAAAAAAADwPwAAAAAAAABAAAAAAAAACEAAAAAAAAAQQAAAAAAAABRAAAAAAAAAGEAAAAAAAAAcQAAAAAAAACBAAAAAAAAAIkA=",
                    "dtype": "f8"
                  }
                },
                {
                  "error_x": {
                    "array": {
                      "bdata": "lPocMiH+bT8fJh+guMJxP+ky+K4ze3E/HBNXHz/Hcz8cg0WdQ99yP/QQ2bn+inU/p9x1mx08eD+SG/R7o6F7P/Qdhn0+zH4/EK5rjRk1gT8=",
                      "dtype": "f8"
                    },
                    "type": "data"
                  },
                  "mode": "markers",
                  "name": "expminFalse",
                  "opacity": 0.7,
                  "type": "scatter",
                  "x": {
                    "bdata": "f/s6cM6Ioj+ze/KwUGuqP3gLJCh+jKk/k6mCUUmdsD8E54wo7Q2uPzxO0ZFc/rM/hXzQs1n1uT+J0t7gC5PBP08eFmpN88Y/kzoBTYQNzz8=",
                    "dtype": "f8"
                  },
                  "y": {
                    "bdata": "nJmZmZmZuT+amZmZmZnxP83MzMzMzABAzMzMzMzMCEBmZmZmZmYQQGZmZmZmZhRAZmZmZmZmGEBmZmZmZmYcQDMzMzMzMyBANDMzMzMzIkA=",
                    "dtype": "f8"
                  }
                }
              ],
              "layout": {
                "legend": {
                  "tracegroupgap": 0
                },
                "margin": {
                  "t": 60
                },
                "plot_bgcolor": "snow",
                "template": {
                  "data": {
                    "bar": [
                      {
                        "error_x": {
                          "color": "#2a3f5f"
                        },
                        "error_y": {
                          "color": "#2a3f5f"
                        },
                        "marker": {
                          "line": {
                            "color": "#E5ECF6",
                            "width": 0.5
                          },
                          "pattern": {
                            "fillmode": "overlay",
                            "size": 10,
                            "solidity": 0.2
                          }
                        },
                        "type": "bar"
                      }
                    ],
                    "barpolar": [
                      {
                        "marker": {
                          "line": {
                            "color": "#E5ECF6",
                            "width": 0.5
                          },
                          "pattern": {
                            "fillmode": "overlay",
                            "size": 10,
                            "solidity": 0.2
                          }
                        },
                        "type": "barpolar"
                      }
                    ],
                    "carpet": [
                      {
                        "aaxis": {
                          "endlinecolor": "#2a3f5f",
                          "gridcolor": "white",
                          "linecolor": "white",
                          "minorgridcolor": "white",
                          "startlinecolor": "#2a3f5f"
                        },
                        "baxis": {
                          "endlinecolor": "#2a3f5f",
                          "gridcolor": "white",
                          "linecolor": "white",
                          "minorgridcolor": "white",
                          "startlinecolor": "#2a3f5f"
                        },
                        "type": "carpet"
                      }
                    ],
                    "choropleth": [
                      {
                        "colorbar": {
                          "outlinewidth": 0,
                          "ticks": ""
                        },
                        "type": "choropleth"
                      }
                    ],
                    "contour": [
                      {
                        "colorbar": {
                          "outlinewidth": 0,
                          "ticks": ""
                        },
                        "colorscale": [
                          [
                            0,
                            "#0d0887"
                          ],
                          [
                            0.1111111111111111,
                            "#46039f"
                          ],
                          [
                            0.2222222222222222,
                            "#7201a8"
                          ],
                          [
                            0.3333333333333333,
                            "#9c179e"
                          ],
                          [
                            0.4444444444444444,
                            "#bd3786"
                          ],
                          [
                            0.5555555555555556,
                            "#d8576b"
                          ],
                          [
                            0.6666666666666666,
                            "#ed7953"
                          ],
                          [
                            0.7777777777777778,
                            "#fb9f3a"
                          ],
                          [
                            0.8888888888888888,
                            "#fdca26"
                          ],
                          [
                            1,
                            "#f0f921"
                          ]
                        ],
                        "type": "contour"
                      }
                    ],
                    "contourcarpet": [
                      {
                        "colorbar": {
                          "outlinewidth": 0,
                          "ticks": ""
                        },
                        "type": "contourcarpet"
                      }
                    ],
                    "heatmap": [
                      {
                        "colorbar": {
                          "outlinewidth": 0,
                          "ticks": ""
                        },
                        "colorscale": [
                          [
                            0,
                            "#0d0887"
                          ],
                          [
                            0.1111111111111111,
                            "#46039f"
                          ],
                          [
                            0.2222222222222222,
                            "#7201a8"
                          ],
                          [
                            0.3333333333333333,
                            "#9c179e"
                          ],
                          [
                            0.4444444444444444,
                            "#bd3786"
                          ],
                          [
                            0.5555555555555556,
                            "#d8576b"
                          ],
                          [
                            0.6666666666666666,
                            "#ed7953"
                          ],
                          [
                            0.7777777777777778,
                            "#fb9f3a"
                          ],
                          [
                            0.8888888888888888,
                            "#fdca26"
                          ],
                          [
                            1,
                            "#f0f921"
                          ]
                        ],
                        "type": "heatmap"
                      }
                    ],
                    "histogram": [
                      {
                        "marker": {
                          "pattern": {
                            "fillmode": "overlay",
                            "size": 10,
                            "solidity": 0.2
                          }
                        },
                        "type": "histogram"
                      }
                    ],
                    "histogram2d": [
                      {
                        "colorbar": {
                          "outlinewidth": 0,
                          "ticks": ""
                        },
                        "colorscale": [
                          [
                            0,
                            "#0d0887"
                          ],
                          [
                            0.1111111111111111,
                            "#46039f"
                          ],
                          [
                            0.2222222222222222,
                            "#7201a8"
                          ],
                          [
                            0.3333333333333333,
                            "#9c179e"
                          ],
                          [
                            0.4444444444444444,
                            "#bd3786"
                          ],
                          [
                            0.5555555555555556,
                            "#d8576b"
                          ],
                          [
                            0.6666666666666666,
                            "#ed7953"
                          ],
                          [
                            0.7777777777777778,
                            "#fb9f3a"
                          ],
                          [
                            0.8888888888888888,
                            "#fdca26"
                          ],
                          [
                            1,
                            "#f0f921"
                          ]
                        ],
                        "type": "histogram2d"
                      }
                    ],
                    "histogram2dcontour": [
                      {
                        "colorbar": {
                          "outlinewidth": 0,
                          "ticks": ""
                        },
                        "colorscale": [
                          [
                            0,
                            "#0d0887"
                          ],
                          [
                            0.1111111111111111,
                            "#46039f"
                          ],
                          [
                            0.2222222222222222,
                            "#7201a8"
                          ],
                          [
                            0.3333333333333333,
                            "#9c179e"
                          ],
                          [
                            0.4444444444444444,
                            "#bd3786"
                          ],
                          [
                            0.5555555555555556,
                            "#d8576b"
                          ],
                          [
                            0.6666666666666666,
                            "#ed7953"
                          ],
                          [
                            0.7777777777777778,
                            "#fb9f3a"
                          ],
                          [
                            0.8888888888888888,
                            "#fdca26"
                          ],
                          [
                            1,
                            "#f0f921"
                          ]
                        ],
                        "type": "histogram2dcontour"
                      }
                    ],
                    "mesh3d": [
                      {
                        "colorbar": {
                          "outlinewidth": 0,
                          "ticks": ""
                        },
                        "type": "mesh3d"
                      }
                    ],
                    "parcoords": [
                      {
                        "line": {
                          "colorbar": {
                            "outlinewidth": 0,
                            "ticks": ""
                          }
                        },
                        "type": "parcoords"
                      }
                    ],
                    "pie": [
                      {
                        "automargin": true,
                        "type": "pie"
                      }
                    ],
                    "scatter": [
                      {
                        "fillpattern": {
                          "fillmode": "overlay",
                          "size": 10,
                          "solidity": 0.2
                        },
                        "type": "scatter"
                      }
                    ],
                    "scatter3d": [
                      {
                        "line": {
                          "colorbar": {
                            "outlinewidth": 0,
                            "ticks": ""
                          }
                        },
                        "marker": {
                          "colorbar": {
                            "outlinewidth": 0,
                            "ticks": ""
                          }
                        },
                        "type": "scatter3d"
                      }
                    ],
                    "scattercarpet": [
                      {
                        "marker": {
                          "colorbar": {
                            "outlinewidth": 0,
                            "ticks": ""
                          }
                        },
                        "type": "scattercarpet"
                      }
                    ],
                    "scattergeo": [
                      {
                        "marker": {
                          "colorbar": {
                            "outlinewidth": 0,
                            "ticks": ""
                          }
                        },
                        "type": "scattergeo"
                      }
                    ],
                    "scattergl": [
                      {
                        "marker": {
                          "colorbar": {
                            "outlinewidth": 0,
                            "ticks": ""
                          }
                        },
                        "type": "scattergl"
                      }
                    ],
                    "scattermap": [
                      {
                        "marker": {
                          "colorbar": {
                            "outlinewidth": 0,
                            "ticks": ""
                          }
                        },
                        "type": "scattermap"
                      }
                    ],
                    "scattermapbox": [
                      {
                        "marker": {
                          "colorbar": {
                            "outlinewidth": 0,
                            "ticks": ""
                          }
                        },
                        "type": "scattermapbox"
                      }
                    ],
                    "scatterpolar": [
                      {
                        "marker": {
                          "colorbar": {
                            "outlinewidth": 0,
                            "ticks": ""
                          }
                        },
                        "type": "scatterpolar"
                      }
                    ],
                    "scatterpolargl": [
                      {
                        "marker": {
                          "colorbar": {
                            "outlinewidth": 0,
                            "ticks": ""
                          }
                        },
                        "type": "scatterpolargl"
                      }
                    ],
                    "scatterternary": [
                      {
                        "marker": {
                          "colorbar": {
                            "outlinewidth": 0,
                            "ticks": ""
                          }
                        },
                        "type": "scatterternary"
                      }
                    ],
                    "surface": [
                      {
                        "colorbar": {
                          "outlinewidth": 0,
                          "ticks": ""
                        },
                        "colorscale": [
                          [
                            0,
                            "#0d0887"
                          ],
                          [
                            0.1111111111111111,
                            "#46039f"
                          ],
                          [
                            0.2222222222222222,
                            "#7201a8"
                          ],
                          [
                            0.3333333333333333,
                            "#9c179e"
                          ],
                          [
                            0.4444444444444444,
                            "#bd3786"
                          ],
                          [
                            0.5555555555555556,
                            "#d8576b"
                          ],
                          [
                            0.6666666666666666,
                            "#ed7953"
                          ],
                          [
                            0.7777777777777778,
                            "#fb9f3a"
                          ],
                          [
                            0.8888888888888888,
                            "#fdca26"
                          ],
                          [
                            1,
                            "#f0f921"
                          ]
                        ],
                        "type": "surface"
                      }
                    ],
                    "table": [
                      {
                        "cells": {
                          "fill": {
                            "color": "#EBF0F8"
                          },
                          "line": {
                            "color": "white"
                          }
                        },
                        "header": {
                          "fill": {
                            "color": "#C8D4E3"
                          },
                          "line": {
                            "color": "white"
                          }
                        },
                        "type": "table"
                      }
                    ]
                  },
                  "layout": {
                    "annotationdefaults": {
                      "arrowcolor": "#2a3f5f",
                      "arrowhead": 0,
                      "arrowwidth": 1
                    },
                    "autotypenumbers": "strict",
                    "coloraxis": {
                      "colorbar": {
                        "outlinewidth": 0,
                        "ticks": ""
                      }
                    },
                    "colorscale": {
                      "diverging": [
                        [
                          0,
                          "#8e0152"
                        ],
                        [
                          0.1,
                          "#c51b7d"
                        ],
                        [
                          0.2,
                          "#de77ae"
                        ],
                        [
                          0.3,
                          "#f1b6da"
                        ],
                        [
                          0.4,
                          "#fde0ef"
                        ],
                        [
                          0.5,
                          "#f7f7f7"
                        ],
                        [
                          0.6,
                          "#e6f5d0"
                        ],
                        [
                          0.7,
                          "#b8e186"
                        ],
                        [
                          0.8,
                          "#7fbc41"
                        ],
                        [
                          0.9,
                          "#4d9221"
                        ],
                        [
                          1,
                          "#276419"
                        ]
                      ],
                      "sequential": [
                        [
                          0,
                          "#0d0887"
                        ],
                        [
                          0.1111111111111111,
                          "#46039f"
                        ],
                        [
                          0.2222222222222222,
                          "#7201a8"
                        ],
                        [
                          0.3333333333333333,
                          "#9c179e"
                        ],
                        [
                          0.4444444444444444,
                          "#bd3786"
                        ],
                        [
                          0.5555555555555556,
                          "#d8576b"
                        ],
                        [
                          0.6666666666666666,
                          "#ed7953"
                        ],
                        [
                          0.7777777777777778,
                          "#fb9f3a"
                        ],
                        [
                          0.8888888888888888,
                          "#fdca26"
                        ],
                        [
                          1,
                          "#f0f921"
                        ]
                      ],
                      "sequentialminus": [
                        [
                          0,
                          "#0d0887"
                        ],
                        [
                          0.1111111111111111,
                          "#46039f"
                        ],
                        [
                          0.2222222222222222,
                          "#7201a8"
                        ],
                        [
                          0.3333333333333333,
                          "#9c179e"
                        ],
                        [
                          0.4444444444444444,
                          "#bd3786"
                        ],
                        [
                          0.5555555555555556,
                          "#d8576b"
                        ],
                        [
                          0.6666666666666666,
                          "#ed7953"
                        ],
                        [
                          0.7777777777777778,
                          "#fb9f3a"
                        ],
                        [
                          0.8888888888888888,
                          "#fdca26"
                        ],
                        [
                          1,
                          "#f0f921"
                        ]
                      ]
                    },
                    "colorway": [
                      "#636efa",
                      "#EF553B",
                      "#00cc96",
                      "#ab63fa",
                      "#FFA15A",
                      "#19d3f3",
                      "#FF6692",
                      "#B6E880",
                      "#FF97FF",
                      "#FECB52"
                    ],
                    "font": {
                      "color": "#2a3f5f"
                    },
                    "geo": {
                      "bgcolor": "white",
                      "lakecolor": "white",
                      "landcolor": "#E5ECF6",
                      "showlakes": true,
                      "showland": true,
                      "subunitcolor": "white"
                    },
                    "hoverlabel": {
                      "align": "left"
                    },
                    "hovermode": "closest",
                    "mapbox": {
                      "style": "light"
                    },
                    "paper_bgcolor": "white",
                    "plot_bgcolor": "#E5ECF6",
                    "polar": {
                      "angularaxis": {
                        "gridcolor": "white",
                        "linecolor": "white",
                        "ticks": ""
                      },
                      "bgcolor": "#E5ECF6",
                      "radialaxis": {
                        "gridcolor": "white",
                        "linecolor": "white",
                        "ticks": ""
                      }
                    },
                    "scene": {
                      "xaxis": {
                        "backgroundcolor": "#E5ECF6",
                        "gridcolor": "white",
                        "gridwidth": 2,
                        "linecolor": "white",
                        "showbackground": true,
                        "ticks": "",
                        "zerolinecolor": "white"
                      },
                      "yaxis": {
                        "backgroundcolor": "#E5ECF6",
                        "gridcolor": "white",
                        "gridwidth": 2,
                        "linecolor": "white",
                        "showbackground": true,
                        "ticks": "",
                        "zerolinecolor": "white"
                      },
                      "zaxis": {
                        "backgroundcolor": "#E5ECF6",
                        "gridcolor": "white",
                        "gridwidth": 2,
                        "linecolor": "white",
                        "showbackground": true,
                        "ticks": "",
                        "zerolinecolor": "white"
                      }
                    },
                    "shapedefaults": {
                      "line": {
                        "color": "#2a3f5f"
                      }
                    },
                    "ternary": {
                      "aaxis": {
                        "gridcolor": "white",
                        "linecolor": "white",
                        "ticks": ""
                      },
                      "baxis": {
                        "gridcolor": "white",
                        "linecolor": "white",
                        "ticks": ""
                      },
                      "bgcolor": "#E5ECF6",
                      "caxis": {
                        "gridcolor": "white",
                        "linecolor": "white",
                        "ticks": ""
                      }
                    },
                    "title": {
                      "x": 0.05
                    },
                    "xaxis": {
                      "automargin": true,
                      "gridcolor": "white",
                      "linecolor": "white",
                      "ticks": "",
                      "title": {
                        "standoff": 15
                      },
                      "zerolinecolor": "white",
                      "zerolinewidth": 2
                    },
                    "yaxis": {
                      "automargin": true,
                      "gridcolor": "white",
                      "linecolor": "white",
                      "ticks": "",
                      "title": {
                        "standoff": 15
                      },
                      "zerolinecolor": "white",
                      "zerolinewidth": 2
                    }
                  }
                },
                "xaxis": {
                  "anchor": "y",
                  "domain": [
                    0,
                    1
                  ],
                  "title": {
                    "text": "Value"
                  }
                },
                "yaxis": {
                  "anchor": "x",
                  "domain": [
                    0,
                    1
                  ],
                  "title": {
                    "text": "index"
                  }
                }
              }
            }
          },
          "metadata": {},
          "output_type": "display_data"
        }
      ],
      "source": [
        "np.random.seed()\n",
        "V, B = 10, 1\n",
        "dim, sparse_m = V, B\n",
        "x = np.random.dirichlet(np.ones(dim))\n",
        "x.sort()\n",
        "\n",
        "# initialize a priority sampler\n",
        "sims = []\n",
        "seed = np.random.randint(1, 10000)\n",
        "for (P, use_weights) in (\n",
        "    (PerturbSort(noiser=\"priority\", use_scipy=False), True),\n",
        "    (PerturbSort(noiser=\"priority\", use_scipy=False), False),\n",
        "    (PerturbSort(noiser=\"expmin\", use_scipy=False), True),\n",
        "    (PerturbSort(noiser=\"expmin\", use_scipy=False), False),\n",
        "):\n",
        "    np.random.seed(seed)\n",
        "    samples = np.array([P.weighted_sample(x, sparse_m) for _ in range(10000)])\n",
        "    if not use_weights:\n",
        "        samples = np.array(samples!=0, dtype=float)\n",
        "    sims.append({\n",
        "        \"name\": P.noiser + str(use_weights), \n",
        "        \"stats\": scipy.stats.describe(samples, axis=0)\n",
        "    })\n",
        "\n",
        "df = pd.DataFrame({\"Actual\": x}).reset_index()\n",
        "fig = px.scatter(\n",
        "    df, x=\"Actual\", y=\"index\", labels={\"Actual\": \"Value\"},\n",
        ").update_traces(marker=dict(symbol=\"diamond\", size=15, opacity=0.4))\n",
        "for i, s in enumerate(sims):\n",
        "    stats = s['stats']\n",
        "    fig.add_scatter(\n",
        "        x=stats.mean, y=df.index -0.05*len(sims) + 0.1 * i, opacity=0.7, \n",
        "        error_x=dict(type=\"data\", array=1.96 * np.sqrt(stats.variance / stats.nobs)),\n",
        "        name=f\"{s['name']}\", mode=\"markers\",\n",
        "    )\n",
        "fig.update_layout(plot_bgcolor=\"snow\").show()"
      ]
    },
    {
      "cell_type": "code",
      "execution_count": 4,
      "metadata": {},
      "outputs": [],
      "source": [
        "if 0:\n",
        "    rng = np.random.default_rng()\n",
        "    bootstrap_results = scipy.stats.bootstrap((samples,), np.mean, confidence_level=0.95, random_state=rng)\n",
        "    df['m'] = np.mean(bootstrap_results.bootstrap_distribution, axis=1)\n",
        "    df['CIl'] = bootstrap_results.confidence_interval.low\n",
        "    df['CIh'] = bootstrap_results.confidence_interval.high\n",
        "    df['se'] = bootstrap_results.standard_error\n",
        "    display(df)\n",
        "    fig.add_scatter(\n",
        "        x=df.m,\n",
        "        y=df.index,\n",
        "        error_x=dict(\n",
        "            array=df.CIh - df.m,\n",
        "            arrayminus=df.m - df.CIl\n",
        "        ),\n",
        "        mode='markers',\n",
        "        showlegend=False\n",
        "    )\n",
        "    fig.show()"
      ]
    },
    {
      "cell_type": "markdown",
      "metadata": {},
      "source": [
        "The (right-skewed) \"Gumbel-max trick\" (or equivalently, the left-skewed Gumbel-min trick) is the same idea as the \"exp-min trick\", which is the same idea again as the idea in \"Priority sampling\". These are all basically the same algorithm, that could be called adaptive threshold sampling since they look like threshold sampling, but involve setting the threshhold adaptively, to equal the k+1 st perturbed weight [@duffield.n:2007; @daliri.m:2024].\n",
        "\n",
        "Both you perturb your probabilities with random noise, then sort them by size, record the $(k+1)^\\text{th}$ value as a threshold, and return a sample consisting of the $k$ items whose weights surpassed that threshold, and weight them by dividing the weight by an inclusion probability.\n",
        "\n",
        "There are only two steps in the algorithm where the differences are, they are (1) where we sample a perturbed version (call it $z_i$) of each weight ($w_i$), and (2) where we calculate the inclusion probability $q_i(\\tau)$ to make the importance weight for the sample, given the threshold $\\tau$. That is the steps that look like this, for each $i$:\n",
        "\n",
        "$$\n",
        "\\begin{aligned}\n",
        "z_i &\\sim \\mathrm{SomeDistribution}(w_i)\\\\\n",
        "\\tau &\\leftarrow \\text{top/bottom-(k+1)}^\\text{th}\\text{ value in }\\mathbf{z}\\\\\n",
        "S &\\leftarrow \\{i : z_i \\text{ is past threshold } \\tau\\}\\\\\n",
        "q_i(\\tau) &\\leftarrow \\Pr(z_i \\text{ passes threshold} \\mid \\text{threshold} = \\tau) \n",
        "\\end{aligned}\n",
        "$$\n",
        "\n",
        "For each case (dropping the ${}_i$ subscripts):\n",
        "\n",
        "**Priority sampling**\n",
        "\n",
        "$$\n",
        "\\begin{aligned}\n",
        "z &\\sim\\mathrm{Uniform}(\\mathrm{low}=0,\\mathrm{high}=\\frac1w)\\\\\n",
        "q(\\tau)&\\leftarrow \\Pr(z < \\tau) = \\mathrm{CDF}_{z}(\\tau)\\\\\n",
        "         &=\\mathrm{min}(1, w\\cdot \\tau)\n",
        "\\end{aligned}\n",
        "$$\n",
        "\n",
        "Now with $U\\sim\\mathrm{Uniform}(0,1)$ the rest are actually exactly equivalent:\n",
        "\n",
        "**Gumbel-min**\n",
        "\n",
        "$$\n",
        "\\begin{aligned}\n",
        "\\big(z &= \\log(-\\log(U)) + \\log(\\frac1w)\\big)\\\\\n",
        "\\big(z &= -1 \\cdot\\mathrm{Gumbel}_r(\\mathrm{loc}=\\log(w),\\mathrm{scale}=1)\\big)\\\\\n",
        "z &\\sim \\mathrm{Gumbel}_{l}(\\mathrm{loc}=\\log(\\frac1w),\\mathrm{scale}=1)\\\\\n",
        "q(\\tau)&\\leftarrow \\Pr(z < \\tau) = \\mathrm{CDF}_{z}(\\tau)\\\\\n",
        "         &=1 - e^{-e^{\\log(w) + \\tau}}= -\\mathrm{expm1}(-w\\cdot e^\\tau) \n",
        "\\end{aligned}\n",
        "$$\n",
        "\n",
        "(**Gumbel-max**)\n",
        "\n",
        "$$\n",
        "\\begin{aligned}\n",
        "\\big(z &= -\\log(-\\log(U)) - \\log(\\frac1w)\\big)\\\\\n",
        "z &\\sim \\mathrm{Gumbel}_r(\\mathrm{loc}=\\log(w),\\mathrm{scale}=1)\\\\\n",
        "q(\\tau)&\\leftarrow \\Pr(z > \\tau) = 1-\\mathrm{CDF}_{z}(\\tau) = \\mathrm{sf}_{z}(\\tau)\\\\\n",
        "         &=1-e^{-e^{\\log(w)-t}} = -\\mathrm{expm1}(-w\\cdot e^{-\\tau}) \n",
        "\\end{aligned}\n",
        "$$\n",
        "\n",
        "\n",
        "**Exp-min**\n",
        "\n",
        "$$\n",
        "\\begin{aligned}\n",
        "\\big(z &= -\\log(U) \\cdot \\frac1w \\big)\\\\\n",
        "z &\\sim\\mathrm{Exponential}(\\mathrm{scale}=\\frac1w)\\\\\n",
        "q(\\tau)&\\leftarrow \\Pr(z < \\tau) = \\mathrm{CDF}_{z}(\\tau)\\\\\n",
        "         &=1-e^{-w\\cdot \\tau} = -\\mathrm{expm1}(-w\\cdot \\tau) \n",
        "\\end{aligned}\n",
        "$$\n",
        "\n",
        "\n",
        "**Beta-max**\n",
        "\n",
        "$$\n",
        "\\begin{aligned}\n",
        "\\big(z &= U^{\\frac1w} \\big)\\\\\n",
        "z &\\sim\\mathrm{Beta}(a=w, b=1)\\\\\n",
        "q(\\tau)&\\leftarrow \\Pr(z > \\tau) = 1-\\mathrm{CDF}_{z}(\\tau) = \\mathrm{sf}_{z}(\\tau)\\\\\n",
        "       &=1-\\tau^w \n",
        "\\end{aligned}\n",
        "$$\n",
        "\n",
        "\n",
        "Coding a nice common version that makes the similarities obvious, you run into one annoying thing: the Gumbel max trick uses the *top* $k$ (largest values), while the other two use *bottom* $k$ (smallest values). This means that while $q$ is the CDF in the first two cases, it is the survival function (1-CDF) in the Gumbel-max case.\n",
        "\n",
        "Note, to make them all fit in the same pattern, we can just change the Gumbel-max to Gumbel-min. Use *negative* of our Gumbel-perturbed weights (meaning we'll have our threshold be the ${k+1}^\\text{th}$ from lowest value). And then that means our $z$'s are distributed according to a so-called 'right-skewed' Gumbel distribution rather than the standard left-skewed one. \n",
        "\n",
        "Here's a plot of the difference. It would be easy to make the mistake of just using the same CDF, but you'd get slightly biased weights.\n",
        "\n",
        "Here's a plot of the Gumbel left- vs right-skewed."
      ]
    },
    {
      "cell_type": "code",
      "execution_count": 5,
      "metadata": {},
      "outputs": [
        {
          "data": {
            "image/svg+xml": [
              "<svg class=\"main-svg\" xmlns=\"http://www.w3.org/2000/svg\" xmlns:xlink=\"http://www.w3.org/1999/xlink\" width=\"700\" height=\"500\" style=\"\" viewBox=\"0 0 700 500\"><rect x=\"0\" y=\"0\" width=\"700\" height=\"500\" style=\"fill: rgb(0, 0, 0); fill-opacity: 0;\"/><defs id=\"defs-5cdaaf\"><g class=\"clips\"><clipPath id=\"clip5cdaafxyplot\" class=\"plotclip\"><rect width=\"442\" height=\"320\"/></clipPath><clipPath class=\"axesclip\" id=\"clip5cdaafx\"><rect x=\"80\" y=\"0\" width=\"442\" height=\"500\"/></clipPath><clipPath class=\"axesclip\" id=\"clip5cdaafy\"><rect x=\"0\" y=\"100\" width=\"700\" height=\"320\"/></clipPath><clipPath class=\"axesclip\" id=\"clip5cdaafxy\"><rect x=\"80\" y=\"100\" width=\"442\" height=\"320\"/></clipPath></g><g class=\"gradients\"/><g class=\"patterns\"/></defs><g class=\"bglayer\"><rect class=\"bg\" x=\"80\" y=\"100\" width=\"442\" height=\"320\" style=\"fill: rgb(0, 0, 0); fill-opacity: 0; stroke-width: 0;\"/></g><g class=\"layer-below\"><g class=\"imagelayer\"/><g class=\"shapelayer\"/></g><g class=\"cartesianlayer\"><g class=\"subplot xy\"><g class=\"layer-subplot\"><g class=\"shapelayer\"/><g class=\"imagelayer\"/></g><g class=\"minor-gridlayer\"><g class=\"x\"/><g class=\"y\"/></g><g class=\"gridlayer\"><g class=\"x\"><path class=\"xgrid crisp\" transform=\"translate(124.2,0)\" d=\"M0,100v320\" style=\"stroke: rgb(255, 255, 255); stroke-opacity: 1; stroke-width: 1px;\"/><path class=\"xgrid crisp\" transform=\"translate(212.6,0)\" d=\"M0,100v320\" style=\"stroke: rgb(255, 255, 255); stroke-opacity: 1; stroke-width: 1px;\"/><path class=\"xgrid crisp\" transform=\"translate(389.4,0)\" d=\"M0,100v320\" style=\"stroke: rgb(255, 255, 255); stroke-opacity: 1; stroke-width: 1px;\"/><path class=\"xgrid crisp\" transform=\"translate(477.8,0)\" d=\"M0,100v320\" style=\"stroke: rgb(255, 255, 255); stroke-opacity: 1; stroke-width: 1px;\"/></g><g class=\"y\"><path class=\"ygrid crisp\" transform=\"translate(0,346.4)\" d=\"M80,0h442\" style=\"stroke: rgb(255, 255, 255); stroke-opacity: 1; stroke-width: 1px;\"/><path class=\"ygrid crisp\" transform=\"translate(0,288.8)\" d=\"M80,0h442\" style=\"stroke: rgb(255, 255, 255); stroke-opacity: 1; stroke-width: 1px;\"/><path class=\"ygrid crisp\" transform=\"translate(0,231.2)\" d=\"M80,0h442\" style=\"stroke: rgb(255, 255, 255); stroke-opacity: 1; stroke-width: 1px;\"/><path class=\"ygrid crisp\" transform=\"translate(0,173.6)\" d=\"M80,0h442\" style=\"stroke: rgb(255, 255, 255); stroke-opacity: 1; stroke-width: 1px;\"/><path class=\"ygrid crisp\" transform=\"translate(0,116)\" d=\"M80,0h442\" style=\"stroke: rgb(255, 255, 255); stroke-opacity: 1; stroke-width: 1px;\"/></g></g><g class=\"zerolinelayer\"><path class=\"xzl zl crisp\" transform=\"translate(301,0)\" d=\"M0,100v320\" style=\"stroke: rgb(255, 255, 255); stroke-opacity: 1; stroke-width: 2px;\"/><path class=\"yzl zl crisp\" transform=\"translate(0,404)\" d=\"M80,0h442\" style=\"stroke: rgb(255, 255, 255); stroke-opacity: 1; stroke-width: 2px;\"/></g><g class=\"layer-between\"><g class=\"shapelayer\"/><g class=\"imagelayer\"/></g><path class=\"xlines-below\"/><path class=\"ylines-below\"/><g class=\"overlines-below\"/><g class=\"xaxislayer-below\"/><g class=\"yaxislayer-below\"/><g class=\"overaxes-below\"/><g class=\"overplot\"><g class=\"xy\" transform=\"translate(80,100)\" clip-path=\"url(#clip5cdaafxyplot)\"><g class=\"scatterlayer mlayer\"><g class=\"trace scatter trace86ed36\" style=\"stroke-miterlimit: 2; opacity: 1;\"><g class=\"fills\"/><g class=\"errorbars\"/><g class=\"lines\"><path class=\"js-line\" d=\"M0,304L128.82,303.26L131.05,302.95L137.71,301.38L139.93,300.55L146.59,296.88L148.81,295.19L155.48,288.48L157.7,285.69L164.36,275.71L166.58,271.9L177.69,250.55L179.91,246.08L191.02,224.91L193.24,221.15L199.9,211.38L202.12,208.68L208.78,202.41L211.01,200.94L215.45,198.92L217.67,198.36L222.11,198.08L224.33,198.34L230.99,200.54L233.22,201.69L239.88,206.15L242.1,207.92L253.21,218.22L255.43,220.47L286.52,251.88L288.74,253.88L302.07,264.79L304.29,266.41L317.62,275.08L319.84,276.34L333.17,282.96L335.39,283.92L350.93,289.55L353.16,290.23L370.92,294.63L373.15,295.08L395.36,298.53L397.58,298.8L424.23,301.13L426.45,301.27L442,302.07\" style=\"vector-effect: none; fill: none; stroke: rgb(99, 110, 250); stroke-opacity: 1; stroke-width: 2px; opacity: 1;\"/></g><g class=\"points\"/><g class=\"text\"/></g><g class=\"trace scatter trace2c4b60\" style=\"stroke-miterlimit: 2; opacity: 1;\"><g class=\"fills\"/><g class=\"errorbars\"/><g class=\"lines\"><path class=\"js-line\" d=\"M0,304L142.15,303.25L144.37,303L153.26,301.19L155.48,300.48L162.14,297.47L164.36,296.14L171.03,291L173.25,288.86L179.91,281.14L182.13,278.12L191.02,263.86L193.24,259.8L204.34,236.96L206.56,232L226.55,184.77L228.77,179.51L244.32,144.35L246.54,139.67L259.87,113.83L262.09,109.92L273.2,92.13L275.42,88.92L286.52,74.51L288.74,71.94L299.85,60.53L302.07,58.52L313.18,49.65L315.4,48.1L326.5,41.29L328.72,40.1L342.05,34.03L344.27,33.17L359.82,28.19L362.04,27.61L379.81,23.82L382.03,23.44L404.24,20.52L406.46,20.3L435.34,18.25L437.56,18.14L442,17.93\" style=\"vector-effect: none; fill: none; stroke: rgb(99, 110, 250); stroke-opacity: 1; stroke-dasharray: 3px, 3px; stroke-width: 2px; opacity: 1;\"/></g><g class=\"points\"/><g class=\"text\"/></g><g class=\"trace scatter trace3ae5ab\" style=\"stroke-miterlimit: 2; opacity: 1;\"><g class=\"fills\"/><g class=\"errorbars\"/><g class=\"lines\"><path class=\"js-line\" d=\"M0,302.07L35.54,299.73L37.76,299.51L62.19,296.29L64.41,295.9L82.18,292.07L84.4,291.48L99.95,286.55L102.17,285.71L115.5,279.85L117.72,278.73L131.05,270.98L133.27,269.51L146.59,259.57L148.81,257.73L162.14,245.6L164.36,243.42L199.9,207.92L202.12,206.15L208.78,201.69L211.01,200.54L217.67,198.34L219.89,198.08L224.33,198.36L226.55,198.92L230.99,200.94L233.22,202.41L239.88,208.68L242.1,211.38L248.76,221.15L250.98,224.91L262.09,246.08L264.31,250.55L277.64,275.71L279.86,279.29L286.52,288.48L288.74,291L295.41,296.88L297.63,298.33L304.29,301.38L306.51,302.03L315.4,303.49L317.62,303.65L337.61,304L339.83,304L442,304\" style=\"vector-effect: none; fill: none; stroke: rgb(239, 85, 59); stroke-opacity: 1; stroke-width: 2px; opacity: 1;\"/></g><g class=\"points\"/><g class=\"text\"/></g><g class=\"trace scatter trace09cc32\" style=\"stroke-miterlimit: 2; opacity: 1;\"><g class=\"fills\"/><g class=\"errorbars\"/><g class=\"lines\"><path class=\"js-line\" d=\"M0,302.07L33.32,299.91L35.54,299.7L59.97,296.56L62.19,296.18L79.96,292.39L82.18,291.81L97.73,286.83L99.95,285.97L113.28,279.9L115.5,278.71L126.6,271.9L128.82,270.35L139.93,261.48L142.15,259.47L153.26,248.06L155.48,245.49L166.58,231.08L168.8,227.87L179.91,210.08L182.13,206.17L193.24,184.91L195.46,180.33L208.78,150.89L211.01,145.72L242.1,73.46L244.32,68.88L253.21,52.26L255.43,48.59L264.31,36.06L266.53,33.49L273.2,27.09L275.42,25.37L282.08,21.37L284.3,20.37L293.19,17.72L295.41,17.32L306.51,16.28L308.73,16.2L342.05,16L344.27,16L442,16\" style=\"vector-effect: none; fill: none; stroke: rgb(239, 85, 59); stroke-opacity: 1; stroke-dasharray: 3px, 3px; stroke-width: 2px; opacity: 1;\"/></g><g class=\"points\"/><g class=\"text\"/></g></g></g></g><path class=\"xlines-above crisp\" d=\"M0,0\" style=\"fill: none;\"/><path class=\"ylines-above crisp\" d=\"M0,0\" style=\"fill: none;\"/><g class=\"overlines-above\"/><g class=\"xaxislayer-above\"><g class=\"xtick\"><text text-anchor=\"middle\" x=\"0\" y=\"433\" transform=\"translate(124.2,0)\" style=\"font-family: 'Open Sans', verdana, arial, sans-serif; font-size: 12px; fill: rgb(42, 63, 95); fill-opacity: 1; white-space: pre; opacity: 1;\">−4</text></g><g class=\"xtick\"><text text-anchor=\"middle\" x=\"0\" y=\"433\" style=\"font-family: 'Open Sans', verdana, arial, sans-serif; font-size: 12px; fill: rgb(42, 63, 95); fill-opacity: 1; white-space: pre; opacity: 1;\" transform=\"translate(212.6,0)\">−2</text></g><g class=\"xtick\"><text text-anchor=\"middle\" x=\"0\" y=\"433\" style=\"font-family: 'Open Sans', verdana, arial, sans-serif; font-size: 12px; fill: rgb(42, 63, 95); fill-opacity: 1; white-space: pre; opacity: 1;\" transform=\"translate(301,0)\">0</text></g><g class=\"xtick\"><text text-anchor=\"middle\" x=\"0\" y=\"433\" style=\"font-family: 'Open Sans', verdana, arial, sans-serif; font-size: 12px; fill: rgb(42, 63, 95); fill-opacity: 1; white-space: pre; opacity: 1;\" transform=\"translate(389.4,0)\">2</text></g><g class=\"xtick\"><text text-anchor=\"middle\" x=\"0\" y=\"433\" style=\"font-family: 'Open Sans', verdana, arial, sans-serif; font-size: 12px; fill: rgb(42, 63, 95); fill-opacity: 1; white-space: pre; opacity: 1;\" transform=\"translate(477.8,0)\">4</text></g></g><g class=\"yaxislayer-above\"><g class=\"ytick\"><text text-anchor=\"end\" x=\"79\" y=\"4.199999999999999\" transform=\"translate(0,404)\" style=\"font-family: 'Open Sans', verdana, arial, sans-serif; font-size: 12px; fill: rgb(42, 63, 95); fill-opacity: 1; white-space: pre; opacity: 1;\">0</text></g><g class=\"ytick\"><text text-anchor=\"end\" x=\"79\" y=\"4.199999999999999\" style=\"font-family: 'Open Sans', verdana, arial, sans-serif; font-size: 12px; fill: rgb(42, 63, 95); fill-opacity: 1; white-space: pre; opacity: 1;\" transform=\"translate(0,346.4)\">0.2</text></g><g class=\"ytick\"><text text-anchor=\"end\" x=\"79\" y=\"4.199999999999999\" style=\"font-family: 'Open Sans', verdana, arial, sans-serif; font-size: 12px; fill: rgb(42, 63, 95); fill-opacity: 1; white-space: pre; opacity: 1;\" transform=\"translate(0,288.8)\">0.4</text></g><g class=\"ytick\"><text text-anchor=\"end\" x=\"79\" y=\"4.199999999999999\" style=\"font-family: 'Open Sans', verdana, arial, sans-serif; font-size: 12px; fill: rgb(42, 63, 95); fill-opacity: 1; white-space: pre; opacity: 1;\" transform=\"translate(0,231.2)\">0.6</text></g><g class=\"ytick\"><text text-anchor=\"end\" x=\"79\" y=\"4.199999999999999\" style=\"font-family: 'Open Sans', verdana, arial, sans-serif; font-size: 12px; fill: rgb(42, 63, 95); fill-opacity: 1; white-space: pre; opacity: 1;\" transform=\"translate(0,173.6)\">0.8</text></g><g class=\"ytick\"><text text-anchor=\"end\" x=\"79\" y=\"4.199999999999999\" style=\"font-family: 'Open Sans', verdana, arial, sans-serif; font-size: 12px; fill: rgb(42, 63, 95); fill-opacity: 1; white-space: pre; opacity: 1;\" transform=\"translate(0,116)\">1</text></g></g><g class=\"overaxes-above\"/></g></g><g class=\"polarlayer\"/><g class=\"smithlayer\"/><g class=\"ternarylayer\"/><g class=\"geolayer\"/><g class=\"funnelarealayer\"/><g class=\"pielayer\"/><g class=\"iciclelayer\"/><g class=\"treemaplayer\"/><g class=\"sunburstlayer\"/><g class=\"glimages\"/><defs id=\"topdefs-5cdaaf\"><g class=\"clips\"/><clipPath id=\"legend5cdaaf\"><rect width=\"157\" height=\"86\" x=\"0\" y=\"0\"/></clipPath></defs><g class=\"layer-above\"><g class=\"imagelayer\"/><g class=\"shapelayer\"/></g><g class=\"infolayer\"><g class=\"legend\" pointer-events=\"all\" transform=\"translate(530.84,100)\"><rect class=\"bg\" shape-rendering=\"crispEdges\" style=\"stroke: rgb(68, 68, 68); stroke-opacity: 1; fill: rgb(0, 0, 0); fill-opacity: 0; stroke-width: 0px;\" width=\"157\" height=\"86\" x=\"0\" y=\"0\"/><g class=\"scrollbox\" transform=\"\" clip-path=\"url(#legend5cdaaf)\"><g class=\"groups\" transform=\"\"><g class=\"traces\" transform=\"translate(0,14.5)\" style=\"opacity: 1;\"><text class=\"legendtext\" text-anchor=\"start\" x=\"40\" y=\"4.680000000000001\" style=\"font-family: 'Open Sans', verdana, arial, sans-serif; font-size: 12px; fill: rgb(42, 63, 95); fill-opacity: 1; white-space: pre;\">right-skewed, PDF</text><g class=\"layers\" style=\"opacity: 1;\"><g class=\"legendfill\"/><g class=\"legendlines\"><path class=\"js-line\" d=\"M5,0h30\" style=\"fill: none; stroke: rgb(99, 110, 250); stroke-opacity: 1; stroke-width: 2px;\"/></g><g class=\"legendsymbols\"><g class=\"legendpoints\"/></g></g><rect class=\"legendtoggle\" x=\"0\" y=\"-9.5\" width=\"151.71875\" height=\"19\" style=\"fill: rgb(0, 0, 0); fill-opacity: 0;\"/></g></g><g class=\"groups\" transform=\"\"><g class=\"traces\" transform=\"translate(0,33.5)\" style=\"opacity: 1;\"><text class=\"legendtext\" text-anchor=\"start\" x=\"40\" y=\"4.680000000000001\" style=\"font-family: 'Open Sans', verdana, arial, sans-serif; font-size: 12px; fill: rgb(42, 63, 95); fill-opacity: 1; white-space: pre;\">right-skewed, CDF</text><g class=\"layers\" style=\"opacity: 1;\"><g class=\"legendfill\"/><g class=\"legendlines\"><path class=\"js-line\" d=\"M5,0h30\" style=\"fill: none; stroke: rgb(99, 110, 250); stroke-opacity: 1; stroke-dasharray: 3px, 3px; stroke-width: 2px;\"/></g><g class=\"legendsymbols\"><g class=\"legendpoints\"/></g></g><rect class=\"legendtoggle\" x=\"0\" y=\"-9.5\" width=\"151.71875\" height=\"19\" style=\"fill: rgb(0, 0, 0); fill-opacity: 0;\"/></g></g><g class=\"groups\" transform=\"\"><g class=\"traces\" transform=\"translate(0,52.5)\" style=\"opacity: 1;\"><text class=\"legendtext\" text-anchor=\"start\" x=\"40\" y=\"4.680000000000001\" style=\"font-family: 'Open Sans', verdana, arial, sans-serif; font-size: 12px; fill: rgb(42, 63, 95); fill-opacity: 1; white-space: pre;\">left-skewed, PDF</text><g class=\"layers\" style=\"opacity: 1;\"><g class=\"legendfill\"/><g class=\"legendlines\"><path class=\"js-line\" d=\"M5,0h30\" style=\"fill: none; stroke: rgb(239, 85, 59); stroke-opacity: 1; stroke-width: 2px;\"/></g><g class=\"legendsymbols\"><g class=\"legendpoints\"/></g></g><rect class=\"legendtoggle\" x=\"0\" y=\"-9.5\" width=\"151.71875\" height=\"19\" style=\"fill: rgb(0, 0, 0); fill-opacity: 0;\"/></g></g><g class=\"groups\" transform=\"\"><g class=\"traces\" transform=\"translate(0,71.5)\" style=\"opacity: 1;\"><text class=\"legendtext\" text-anchor=\"start\" x=\"40\" y=\"4.680000000000001\" style=\"font-family: 'Open Sans', verdana, arial, sans-serif; font-size: 12px; fill: rgb(42, 63, 95); fill-opacity: 1; white-space: pre;\">left-skewed, CDF</text><g class=\"layers\" style=\"opacity: 1;\"><g class=\"legendfill\"/><g class=\"legendlines\"><path class=\"js-line\" d=\"M5,0h30\" style=\"fill: none; stroke: rgb(239, 85, 59); stroke-opacity: 1; stroke-dasharray: 3px, 3px; stroke-width: 2px;\"/></g><g class=\"legendsymbols\"><g class=\"legendpoints\"/></g></g><rect class=\"legendtoggle\" x=\"0\" y=\"-9.5\" width=\"151.71875\" height=\"19\" style=\"fill: rgb(0, 0, 0); fill-opacity: 0;\"/></g></g></g><rect class=\"scrollbar\" rx=\"20\" ry=\"3\" width=\"0\" height=\"0\" style=\"fill: rgb(128, 139, 164); fill-opacity: 1;\" x=\"0\" y=\"0\"/></g><g class=\"g-gtitle\"><text class=\"gtitle\" x=\"35\" y=\"50\" text-anchor=\"start\" dy=\"0em\" style=\"opacity: 1; font-family: 'Open Sans', verdana, arial, sans-serif; font-size: 17px; fill: rgb(42, 63, 95); fill-opacity: 1; white-space: pre;\">Gumbel Distributions (loc=0, scale=1)</text></g><g class=\"g-xtitle\"><text class=\"xtitle\" x=\"301\" y=\"459.8\" text-anchor=\"middle\" style=\"opacity: 1; font-family: 'Open Sans', verdana, arial, sans-serif; font-size: 14px; fill: rgb(42, 63, 95); fill-opacity: 1; white-space: pre;\">𝜏</text></g><g class=\"g-ytitle\"><text class=\"ytitle\" transform=\"rotate(-90,39.975,260)\" x=\"39.975\" y=\"260\" text-anchor=\"middle\" style=\"opacity: 1; font-family: 'Open Sans', verdana, arial, sans-serif; font-size: 14px; fill: rgb(42, 63, 95); fill-opacity: 1; white-space: pre;\">density or probability</text></g></g></svg>"
            ]
          },
          "metadata": {},
          "output_type": "display_data"
        }
      ],
      "source": [
        "# Plot PDFs and CDFs of Gumbel distributions\n",
        "import plotly.express as px\n",
        "import numpy as np\n",
        "\n",
        "def plot_gumbel_funcs(m=0):\n",
        "    x = np.linspace(-5, 5, 200)\n",
        "    # PDFs\n",
        "    pdf_right = np.exp(m - x - np.exp(m - x))\n",
        "    pdf_left = np.exp(-m + x - np.exp(-m + x))     \n",
        "    # CDFs\n",
        "    cdf_right = np.exp(-np.exp(m - x))\n",
        "    cdf_left = 1 - np.exp(-np.exp(-m + x))    \n",
        "\n",
        "    df = pd.DataFrame({\n",
        "        'x': np.concatenate([x, x, x, x]),\n",
        "        'y': np.concatenate([pdf_right, pdf_left, cdf_right, cdf_left]),\n",
        "        'type': ['PDF']*len(x) + ['PDF']*len(x) + ['CDF']*len(x) + ['CDF']*len(x),\n",
        "        'distribution': ['right-skewed']*len(x) + ['left-skewed']*len(x) + \n",
        "                       ['right-skewed']*len(x) + ['left-skewed']*len(x)\n",
        "    })\n",
        "\n",
        "    fig = px.line(df, x='x', y='y', color='distribution', line_dash='type',\n",
        "                  title=f'Gumbel Distributions (loc={m}, scale=1)')\n",
        "\n",
        "    fig.update_layout(\n",
        "        xaxis_title='𝜏',\n",
        "        yaxis_title='density or probability',\n",
        "        legend_title=None,\n",
        "        plot_bgcolor='rgba(0,0,0,0)',\n",
        "        paper_bgcolor='rgba(0,0,0,0)'\n",
        "    )\n",
        "\n",
        "    return fig\n",
        "\n",
        "# Create interactive plot with default m=0\n",
        "plot_gumbel_funcs(m=0)"
      ]
    },
    {
      "cell_type": "markdown",
      "metadata": {},
      "source": [
        "$$\n",
        "\\begin{aligned}\n",
        "\\mathrm{Gumbel}_r &\\mathrm{pdf}(\\text{loc}=m, \\text{scale}=1) = e^{m-x-e^{m-x}}\\\\\n",
        "\\mathrm{Gumbel}_r &\\mathrm{CDF}(\\text{loc}=m, \\text{scale}=1) = e^{-e^{m-x}}\\\\\n",
        "\\mathrm{Gumbel}_l &\\mathrm{pdf}(\\text{loc}=m, \\text{scale}=1) = e^{m+x-e^{m+x}}\\\\\n",
        "\\mathrm{Gumbel}_l &\\mathrm{CDF}(\\text{loc}=m, \\text{scale}=1) = 1-e^{-e^{m+x}}\n",
        "\\end{aligned}\n",
        "$$"
      ]
    }
  ],
  "metadata": {
    "kernelspec": {
      "display_name": "Python 3 (ipykernel)",
      "language": "python",
      "name": "python3",
      "path": "/Users/j/priority/.venv/share/jupyter/kernels/python3"
    },
    "language_info": {
      "codemirror_mode": {
        "name": "ipython",
        "version": 3
      },
      "file_extension": ".py",
      "mimetype": "text/x-python",
      "name": "python",
      "nbconvert_exporter": "python",
      "pygments_lexer": "ipython3",
      "version": "3.13.1"
    }
  },
  "nbformat": 4,
  "nbformat_minor": 4
}
