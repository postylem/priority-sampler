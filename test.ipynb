{
 "cells": [
  {
   "cell_type": "code",
   "execution_count": 1,
   "metadata": {},
   "outputs": [],
   "source": [
    "%load_ext autoreload\n",
    "%autoreload complete --print"
   ]
  },
  {
   "cell_type": "code",
   "execution_count": 20,
   "metadata": {},
   "outputs": [
    {
     "name": "stdout",
     "output_type": "stream",
     "text": [
      "Reloading 'priority.priority_sampler'.\n"
     ]
    }
   ],
   "source": [
    "from priority import PrioritySampler, normalize\n",
    "import scipy, numpy as np, pandas as pd, plotly.express as px\n",
    "pd.options.plotting.backend = \"plotly\""
   ]
  },
  {
   "cell_type": "code",
   "execution_count": 177,
   "metadata": {},
   "outputs": [
    {
     "data": {
      "application/vnd.plotly.v1+json": {
       "config": {
        "plotlyServerURL": "https://plot.ly"
       },
       "data": [
        {
         "error_x": {
          "array": {
           "bdata": "CAMJJzJrRz87e1xIsstOP5QF4+J19FA/60h3x9MGWz8QuxRlSQxeP1P4V84am10/uIMSfuVsYD8MOoJOGRNjP6ZqMeGGb2M/OFFmR0j2Yz8ShZxHuRllP5kolf85aGY/hF16NDi3aD/76Fnn351pP5e3nhiNOmo/",
           "dtype": "f8"
          }
         },
         "hovertemplate": "Value=%{x}<br>index=%{y}<extra></extra>",
         "legendgroup": "",
         "marker": {
          "color": "#636efa",
          "symbol": "circle"
         },
         "mode": "markers",
         "name": "",
         "orientation": "v",
         "showlegend": false,
         "type": "scatter",
         "x": {
          "bdata": "Z/kldbQXcT9GeMeKd4F9P05hFzNioIE/PB3twzcSlz8Z8+vJzaObP3R6/vgA+Zw/rJah2t+xoT81WpMafOmqPz/3cb4mias/TawFc/34rT99t20gs3mxP2QfV20hD7U/YE2Ui5fcvz/tAM8rzSTDPwntiLRdQNI/",
          "dtype": "f8"
         },
         "xaxis": "x",
         "y": {
          "bdata": "AAECAwQFBgcICQoLDA0O",
          "dtype": "i1"
         },
         "yaxis": "y"
        },
        {
         "marker": {
          "opacity": 0.6,
          "size": 10,
          "symbol": "diamond"
         },
         "mode": "markers",
         "name": "w",
         "type": "scatter",
         "x": {
          "bdata": "cDmN8bk8cT/dNMxkZ+x6P37kk7J9PIM/0PYXPEWilj+X8O5NqgGbPzd+zUwppZ0/mt9XHrZ9oT/HoF78QzCqPzapgMcuyao/iufy7ELLrD8VWh2jr2exP7Jx9G4YurQ/aAuXRIzhvz8pL1Xy7gPDP0Sl6vbLVdI/",
          "dtype": "f8"
         },
         "y": {
          "bdata": "AAECAwQFBgcICQoLDA0O",
          "dtype": "i1"
         }
        }
       ],
       "layout": {
        "legend": {
         "tracegroupgap": 0
        },
        "margin": {
         "t": 60
        },
        "plot_bgcolor": "snow",
        "template": {
         "data": {
          "bar": [
           {
            "error_x": {
             "color": "#2a3f5f"
            },
            "error_y": {
             "color": "#2a3f5f"
            },
            "marker": {
             "line": {
              "color": "#E5ECF6",
              "width": 0.5
             },
             "pattern": {
              "fillmode": "overlay",
              "size": 10,
              "solidity": 0.2
             }
            },
            "type": "bar"
           }
          ],
          "barpolar": [
           {
            "marker": {
             "line": {
              "color": "#E5ECF6",
              "width": 0.5
             },
             "pattern": {
              "fillmode": "overlay",
              "size": 10,
              "solidity": 0.2
             }
            },
            "type": "barpolar"
           }
          ],
          "carpet": [
           {
            "aaxis": {
             "endlinecolor": "#2a3f5f",
             "gridcolor": "white",
             "linecolor": "white",
             "minorgridcolor": "white",
             "startlinecolor": "#2a3f5f"
            },
            "baxis": {
             "endlinecolor": "#2a3f5f",
             "gridcolor": "white",
             "linecolor": "white",
             "minorgridcolor": "white",
             "startlinecolor": "#2a3f5f"
            },
            "type": "carpet"
           }
          ],
          "choropleth": [
           {
            "colorbar": {
             "outlinewidth": 0,
             "ticks": ""
            },
            "type": "choropleth"
           }
          ],
          "contour": [
           {
            "colorbar": {
             "outlinewidth": 0,
             "ticks": ""
            },
            "colorscale": [
             [
              0,
              "#0d0887"
             ],
             [
              0.1111111111111111,
              "#46039f"
             ],
             [
              0.2222222222222222,
              "#7201a8"
             ],
             [
              0.3333333333333333,
              "#9c179e"
             ],
             [
              0.4444444444444444,
              "#bd3786"
             ],
             [
              0.5555555555555556,
              "#d8576b"
             ],
             [
              0.6666666666666666,
              "#ed7953"
             ],
             [
              0.7777777777777778,
              "#fb9f3a"
             ],
             [
              0.8888888888888888,
              "#fdca26"
             ],
             [
              1,
              "#f0f921"
             ]
            ],
            "type": "contour"
           }
          ],
          "contourcarpet": [
           {
            "colorbar": {
             "outlinewidth": 0,
             "ticks": ""
            },
            "type": "contourcarpet"
           }
          ],
          "heatmap": [
           {
            "colorbar": {
             "outlinewidth": 0,
             "ticks": ""
            },
            "colorscale": [
             [
              0,
              "#0d0887"
             ],
             [
              0.1111111111111111,
              "#46039f"
             ],
             [
              0.2222222222222222,
              "#7201a8"
             ],
             [
              0.3333333333333333,
              "#9c179e"
             ],
             [
              0.4444444444444444,
              "#bd3786"
             ],
             [
              0.5555555555555556,
              "#d8576b"
             ],
             [
              0.6666666666666666,
              "#ed7953"
             ],
             [
              0.7777777777777778,
              "#fb9f3a"
             ],
             [
              0.8888888888888888,
              "#fdca26"
             ],
             [
              1,
              "#f0f921"
             ]
            ],
            "type": "heatmap"
           }
          ],
          "histogram": [
           {
            "marker": {
             "pattern": {
              "fillmode": "overlay",
              "size": 10,
              "solidity": 0.2
             }
            },
            "type": "histogram"
           }
          ],
          "histogram2d": [
           {
            "colorbar": {
             "outlinewidth": 0,
             "ticks": ""
            },
            "colorscale": [
             [
              0,
              "#0d0887"
             ],
             [
              0.1111111111111111,
              "#46039f"
             ],
             [
              0.2222222222222222,
              "#7201a8"
             ],
             [
              0.3333333333333333,
              "#9c179e"
             ],
             [
              0.4444444444444444,
              "#bd3786"
             ],
             [
              0.5555555555555556,
              "#d8576b"
             ],
             [
              0.6666666666666666,
              "#ed7953"
             ],
             [
              0.7777777777777778,
              "#fb9f3a"
             ],
             [
              0.8888888888888888,
              "#fdca26"
             ],
             [
              1,
              "#f0f921"
             ]
            ],
            "type": "histogram2d"
           }
          ],
          "histogram2dcontour": [
           {
            "colorbar": {
             "outlinewidth": 0,
             "ticks": ""
            },
            "colorscale": [
             [
              0,
              "#0d0887"
             ],
             [
              0.1111111111111111,
              "#46039f"
             ],
             [
              0.2222222222222222,
              "#7201a8"
             ],
             [
              0.3333333333333333,
              "#9c179e"
             ],
             [
              0.4444444444444444,
              "#bd3786"
             ],
             [
              0.5555555555555556,
              "#d8576b"
             ],
             [
              0.6666666666666666,
              "#ed7953"
             ],
             [
              0.7777777777777778,
              "#fb9f3a"
             ],
             [
              0.8888888888888888,
              "#fdca26"
             ],
             [
              1,
              "#f0f921"
             ]
            ],
            "type": "histogram2dcontour"
           }
          ],
          "mesh3d": [
           {
            "colorbar": {
             "outlinewidth": 0,
             "ticks": ""
            },
            "type": "mesh3d"
           }
          ],
          "parcoords": [
           {
            "line": {
             "colorbar": {
              "outlinewidth": 0,
              "ticks": ""
             }
            },
            "type": "parcoords"
           }
          ],
          "pie": [
           {
            "automargin": true,
            "type": "pie"
           }
          ],
          "scatter": [
           {
            "fillpattern": {
             "fillmode": "overlay",
             "size": 10,
             "solidity": 0.2
            },
            "type": "scatter"
           }
          ],
          "scatter3d": [
           {
            "line": {
             "colorbar": {
              "outlinewidth": 0,
              "ticks": ""
             }
            },
            "marker": {
             "colorbar": {
              "outlinewidth": 0,
              "ticks": ""
             }
            },
            "type": "scatter3d"
           }
          ],
          "scattercarpet": [
           {
            "marker": {
             "colorbar": {
              "outlinewidth": 0,
              "ticks": ""
             }
            },
            "type": "scattercarpet"
           }
          ],
          "scattergeo": [
           {
            "marker": {
             "colorbar": {
              "outlinewidth": 0,
              "ticks": ""
             }
            },
            "type": "scattergeo"
           }
          ],
          "scattergl": [
           {
            "marker": {
             "colorbar": {
              "outlinewidth": 0,
              "ticks": ""
             }
            },
            "type": "scattergl"
           }
          ],
          "scattermap": [
           {
            "marker": {
             "colorbar": {
              "outlinewidth": 0,
              "ticks": ""
             }
            },
            "type": "scattermap"
           }
          ],
          "scattermapbox": [
           {
            "marker": {
             "colorbar": {
              "outlinewidth": 0,
              "ticks": ""
             }
            },
            "type": "scattermapbox"
           }
          ],
          "scatterpolar": [
           {
            "marker": {
             "colorbar": {
              "outlinewidth": 0,
              "ticks": ""
             }
            },
            "type": "scatterpolar"
           }
          ],
          "scatterpolargl": [
           {
            "marker": {
             "colorbar": {
              "outlinewidth": 0,
              "ticks": ""
             }
            },
            "type": "scatterpolargl"
           }
          ],
          "scatterternary": [
           {
            "marker": {
             "colorbar": {
              "outlinewidth": 0,
              "ticks": ""
             }
            },
            "type": "scatterternary"
           }
          ],
          "surface": [
           {
            "colorbar": {
             "outlinewidth": 0,
             "ticks": ""
            },
            "colorscale": [
             [
              0,
              "#0d0887"
             ],
             [
              0.1111111111111111,
              "#46039f"
             ],
             [
              0.2222222222222222,
              "#7201a8"
             ],
             [
              0.3333333333333333,
              "#9c179e"
             ],
             [
              0.4444444444444444,
              "#bd3786"
             ],
             [
              0.5555555555555556,
              "#d8576b"
             ],
             [
              0.6666666666666666,
              "#ed7953"
             ],
             [
              0.7777777777777778,
              "#fb9f3a"
             ],
             [
              0.8888888888888888,
              "#fdca26"
             ],
             [
              1,
              "#f0f921"
             ]
            ],
            "type": "surface"
           }
          ],
          "table": [
           {
            "cells": {
             "fill": {
              "color": "#EBF0F8"
             },
             "line": {
              "color": "white"
             }
            },
            "header": {
             "fill": {
              "color": "#C8D4E3"
             },
             "line": {
              "color": "white"
             }
            },
            "type": "table"
           }
          ]
         },
         "layout": {
          "annotationdefaults": {
           "arrowcolor": "#2a3f5f",
           "arrowhead": 0,
           "arrowwidth": 1
          },
          "autotypenumbers": "strict",
          "coloraxis": {
           "colorbar": {
            "outlinewidth": 0,
            "ticks": ""
           }
          },
          "colorscale": {
           "diverging": [
            [
             0,
             "#8e0152"
            ],
            [
             0.1,
             "#c51b7d"
            ],
            [
             0.2,
             "#de77ae"
            ],
            [
             0.3,
             "#f1b6da"
            ],
            [
             0.4,
             "#fde0ef"
            ],
            [
             0.5,
             "#f7f7f7"
            ],
            [
             0.6,
             "#e6f5d0"
            ],
            [
             0.7,
             "#b8e186"
            ],
            [
             0.8,
             "#7fbc41"
            ],
            [
             0.9,
             "#4d9221"
            ],
            [
             1,
             "#276419"
            ]
           ],
           "sequential": [
            [
             0,
             "#0d0887"
            ],
            [
             0.1111111111111111,
             "#46039f"
            ],
            [
             0.2222222222222222,
             "#7201a8"
            ],
            [
             0.3333333333333333,
             "#9c179e"
            ],
            [
             0.4444444444444444,
             "#bd3786"
            ],
            [
             0.5555555555555556,
             "#d8576b"
            ],
            [
             0.6666666666666666,
             "#ed7953"
            ],
            [
             0.7777777777777778,
             "#fb9f3a"
            ],
            [
             0.8888888888888888,
             "#fdca26"
            ],
            [
             1,
             "#f0f921"
            ]
           ],
           "sequentialminus": [
            [
             0,
             "#0d0887"
            ],
            [
             0.1111111111111111,
             "#46039f"
            ],
            [
             0.2222222222222222,
             "#7201a8"
            ],
            [
             0.3333333333333333,
             "#9c179e"
            ],
            [
             0.4444444444444444,
             "#bd3786"
            ],
            [
             0.5555555555555556,
             "#d8576b"
            ],
            [
             0.6666666666666666,
             "#ed7953"
            ],
            [
             0.7777777777777778,
             "#fb9f3a"
            ],
            [
             0.8888888888888888,
             "#fdca26"
            ],
            [
             1,
             "#f0f921"
            ]
           ]
          },
          "colorway": [
           "#636efa",
           "#EF553B",
           "#00cc96",
           "#ab63fa",
           "#FFA15A",
           "#19d3f3",
           "#FF6692",
           "#B6E880",
           "#FF97FF",
           "#FECB52"
          ],
          "font": {
           "color": "#2a3f5f"
          },
          "geo": {
           "bgcolor": "white",
           "lakecolor": "white",
           "landcolor": "#E5ECF6",
           "showlakes": true,
           "showland": true,
           "subunitcolor": "white"
          },
          "hoverlabel": {
           "align": "left"
          },
          "hovermode": "closest",
          "mapbox": {
           "style": "light"
          },
          "paper_bgcolor": "white",
          "plot_bgcolor": "#E5ECF6",
          "polar": {
           "angularaxis": {
            "gridcolor": "white",
            "linecolor": "white",
            "ticks": ""
           },
           "bgcolor": "#E5ECF6",
           "radialaxis": {
            "gridcolor": "white",
            "linecolor": "white",
            "ticks": ""
           }
          },
          "scene": {
           "xaxis": {
            "backgroundcolor": "#E5ECF6",
            "gridcolor": "white",
            "gridwidth": 2,
            "linecolor": "white",
            "showbackground": true,
            "ticks": "",
            "zerolinecolor": "white"
           },
           "yaxis": {
            "backgroundcolor": "#E5ECF6",
            "gridcolor": "white",
            "gridwidth": 2,
            "linecolor": "white",
            "showbackground": true,
            "ticks": "",
            "zerolinecolor": "white"
           },
           "zaxis": {
            "backgroundcolor": "#E5ECF6",
            "gridcolor": "white",
            "gridwidth": 2,
            "linecolor": "white",
            "showbackground": true,
            "ticks": "",
            "zerolinecolor": "white"
           }
          },
          "shapedefaults": {
           "line": {
            "color": "#2a3f5f"
           }
          },
          "ternary": {
           "aaxis": {
            "gridcolor": "white",
            "linecolor": "white",
            "ticks": ""
           },
           "baxis": {
            "gridcolor": "white",
            "linecolor": "white",
            "ticks": ""
           },
           "bgcolor": "#E5ECF6",
           "caxis": {
            "gridcolor": "white",
            "linecolor": "white",
            "ticks": ""
           }
          },
          "title": {
           "x": 0.05
          },
          "xaxis": {
           "automargin": true,
           "gridcolor": "white",
           "linecolor": "white",
           "ticks": "",
           "title": {
            "standoff": 15
           },
           "zerolinecolor": "white",
           "zerolinewidth": 2
          },
          "yaxis": {
           "automargin": true,
           "gridcolor": "white",
           "linecolor": "white",
           "ticks": "",
           "title": {
            "standoff": 15
           },
           "zerolinecolor": "white",
           "zerolinewidth": 2
          }
         }
        },
        "xaxis": {
         "anchor": "y",
         "domain": [
          0,
          1
         ],
         "title": {
          "text": "Value"
         }
        },
        "yaxis": {
         "anchor": "x",
         "domain": [
          0,
          1
         ],
         "title": {
          "text": "index"
         }
        }
       }
      }
     },
     "metadata": {},
     "output_type": "display_data"
    }
   ],
   "source": [
    "# initialize a priority sampler\n",
    "PS = PrioritySampler(kind=\"gumbel\", use_scipy=False)\n",
    "\n",
    "dim, sparse_m = 15, 5\n",
    "w = np.random.dirichlet(np.ones(dim))\n",
    "w.sort()\n",
    "\n",
    "samples = np.array([PS.weighted_sample(w, sparse_m) for _ in range(5000)])\n",
    "\n",
    "stats = scipy.stats.describe(samples, axis=0)\n",
    "df = pd.DataFrame({\n",
    "    'Actual': w,\n",
    "    'Estimate mean': stats.mean,\n",
    "    'Estimate sem': 1.96 * np.sqrt(stats.variance / stats.nobs)\n",
    "}).reset_index()\n",
    "fig = px.scatter(\n",
    "    df, x='Estimate mean', y='index', error_x='Estimate sem',\n",
    "    labels = {\"Estimate mean\": \"Value\"}\n",
    ").add_scatter(\n",
    "    x=df['Actual'], y=df.index, \n",
    "    mode='markers', name='w', marker=dict(symbol='diamond', size=10, opacity=0.6),\n",
    ")\n",
    "fig.update_layout(plot_bgcolor='snow').show()"
   ]
  },
  {
   "cell_type": "code",
   "execution_count": null,
   "metadata": {},
   "outputs": [],
   "source": [
    "if 1:\n",
    "    rng = np.random.default_rng()\n",
    "    bootstrap_results = scipy.stats.bootstrap((samples,), np.mean, confidence_level=0.95, random_state=rng)\n",
    "\n",
    "    df['m'] = np.mean(bootstrap_results.bootstrap_distribution, axis=1)\n",
    "    df['CIl'] = bootstrap_results.confidence_interval.low\n",
    "    df['CIh'] = bootstrap_results.confidence_interval.high\n",
    "    df['se'] = bootstrap_results.standard_error\n",
    "\n",
    "    display(df)\n",
    "    # Create error bars using the precomputed mean and sem\n",
    "    fig.add_scatter(\n",
    "        x=df.m,\n",
    "        y=df.index,\n",
    "        error_x=dict(\n",
    "            array=df.CIh - df.m,\n",
    "            arrayminus=df.m - df.CIl\n",
    "        ),\n",
    "        mode='markers',\n",
    "        showlegend=False\n",
    "    )\n",
    "    fig.show()"
   ]
  },
  {
   "cell_type": "code",
   "execution_count": 86,
   "metadata": {},
   "outputs": [
    {
     "data": {
      "text/plain": [
       "np.float64(1.0)"
      ]
     },
     "execution_count": 86,
     "metadata": {},
     "output_type": "execute_result"
    }
   ],
   "source": [
    "from scipy.stats import gumbel_l, gumbel_r, uniform, expon\n",
    "\n",
    "gumbel_r(loc=1-np.euler_gamma, scale=1).mean()"
   ]
  },
  {
   "cell_type": "markdown",
   "metadata": {},
   "source": []
  },
  {
   "cell_type": "markdown",
   "metadata": {},
   "source": [
    "The \"Gumbel-max trick\" is the same idea as the \"exp-min trick\", which is the same idea again as the idea in \"Priority sampling\". These are all the same algorithm.\n",
    "\n",
    "Both you perturb your probabilities with random noise, then sort them by size, record the $(k+1)^\\text{th}$ value as a threshold, and return a sample consisting of the $k$ items whose weights surpassed that threshold, and weight them by dividing the weight by an inclusion probability.\n",
    "\n",
    "There are only two steps in the algorithm where the differences are, they are (1) where we sample a perturbed version (call it $z_i$) of each weight ($w_i$), and (2) where we calculate the inclusion probability $q_i(\\tau)$ to make the importance weight for the sample, given the threshold $\\tau$. That is the steps that look like this, for each $i$:\n",
    "\n",
    "$$\n",
    "\\begin{aligned}\n",
    "z_i &\\sim \\mathrm{SomeDistribution}(w_i)\\\\\n",
    "\\tau &\\leftarrow \\text{top/bottom-(k+1)}^\\text{th}\\text{ value in }\\boldsymbol z\\\\\n",
    "S &\\leftarrow \\{i : z_i \\text{ is past threshold } \\tau\\}\\\\\n",
    "q_i(\\tau) &\\leftarrow \\Pr(z_i \\text{ passes threshold} \\mid \\text{threshold} = \\tau) \n",
    "\\end{aligned}\n",
    "$$\n"
   ]
  },
  {
   "cell_type": "markdown",
   "metadata": {},
   "source": [
    "\n",
    "For each case (dropping the ${}_i$ subscripts):\n",
    "\n",
    "**Priority sampling** (or, I guess \"Uniform-min\")\n",
    "$$\n",
    "\\begin{aligned}\n",
    "z &\\sim\\mathrm{Uniform}(\\mathrm{low}=0,\\mathrm{high}=\\frac1w)\\\\\n",
    "q(\\tau)&\\leftarrow \\Pr(z < \\tau) = \\mathrm{CDF}_{z}(\\tau)\\\\\n",
    "         &=\\mathrm{min}(1, w\\cdot \\tau)\n",
    "\\end{aligned}\n",
    "$$\n",
    "**Exp-min**\n",
    "$$\n",
    "\\begin{aligned}\n",
    "z &\\sim\\mathrm{Exponential}(\\mathrm{scale}=\\frac1w)\\\\\n",
    "q(\\tau)&\\leftarrow \\Pr(z < \\tau) = \\mathrm{CDF}_{z}(\\tau)\\\\\n",
    "         &=1-e^{-w\\cdot \\tau} = -\\mathrm{expm1}(-w\\cdot \\tau) \n",
    "\\end{aligned}\n",
    "$$\n",
    "**Gumbel-max**\n",
    "$$\n",
    "\\begin{aligned}\n",
    "z &\\sim \\cdot\\mathrm{Gumbel}_r(\\mathrm{loc}=\\log(w),\\mathrm{scale}=1)\\\\\n",
    "q(\\tau)&\\leftarrow \\Pr(z > \\tau) = 1-\\mathrm{CDF}_{z}(\\tau) = \\mathrm{sf}_{z}(\\tau)\\\\\n",
    "         &=1-e^{-e^{\\log(w)-t}} = -\\mathrm{expm1}(-w\\cdot e^{-\\tau}) \n",
    "\\end{aligned}\n",
    "$$\n",
    "\n",
    "Coding a nice common version that makes the similarities obvious, you run into one annoying thing: the Gumbel max trick uses the _top_ $k$ (largest values), while the other two use _bottom_ $k$ (smallest values).  This means that while $q$ is the CDF in the first two cases, it is the survival function (1-CDF) in the Gumbel-max case.\n",
    "\n",
    "To make them all fit in the same pattern, we can just change the Gumbel-max to Gumbel-min. Use _negative_ of our Gumbel-perturbed weights (meaning we'll have our threshold be the ${k+1}^\\text{th}$ from lowest value).  And then that means our $z$'s are distributed according to a so-called 'right-skewed' Gumbel distribution rather than the standard left-skewed one. So, the \n",
    "\n",
    "**Gumbel-min**\n",
    "$$\n",
    "\\begin{aligned}\n",
    "\\big(z &\\sim -1 \\cdot\\mathrm{Gumbel}_r(\\mathrm{loc}=\\log(w),\\mathrm{scale}=1)\\big)\\\\\n",
    "\\implies z &\\sim \\mathrm{Gumbel}_{l}(\\mathrm{loc}=\\log(\\frac1w),\\mathrm{scale}=1)\\\\\n",
    "q(\\tau)&\\leftarrow \\Pr(z < \\tau) = \\mathrm{CDF}_{z}(\\tau)\\\\\n",
    "         &=1 - e^{-e^{\\log(w) + \\tau}}= -\\mathrm{expm1}(-w\\cdot e^\\tau) \n",
    "\\end{aligned}\n",
    "$$\n",
    "\n",
    "\n",
    "Here's a plot of the difference. It would be easy to make the mistake of just using the same CDF, but you'd get slightly biased weights."
   ]
  },
  {
   "cell_type": "markdown",
   "metadata": {},
   "source": [
    "Here's a plot of the Gumbel left- vs right-skewed."
   ]
  },
  {
   "cell_type": "code",
   "execution_count": 180,
   "metadata": {},
   "outputs": [
    {
     "data": {
      "application/vnd.plotly.v1+json": {
       "config": {
        "plotlyServerURL": "https://plot.ly"
       },
       "data": [
        {
         "hovertemplate": "distribution=right-skewed<br>type=PDF<br>x=%{x}<br>y=%{y}<extra></extra>",
         "legendgroup": "right-skewed, PDF",
         "line": {
          "color": "#636efa",
          "dash": "solid"
         },
         "marker": {
          "symbol": "circle"
         },
         "mode": "lines",
         "name": "right-skewed, PDF",
         "orientation": "v",
         "showlegend": true,
         "type": "scatter",
         "x": {
          "bdata": "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",
          "dtype": "f8"
         },
         "xaxis": "x",
         "y": {
          "bdata": "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",
          "dtype": "f8"
         },
         "yaxis": "y"
        },
        {
         "hovertemplate": "distribution=right-skewed<br>type=CDF<br>x=%{x}<br>y=%{y}<extra></extra>",
         "legendgroup": "right-skewed, CDF",
         "line": {
          "color": "#636efa",
          "dash": "dot"
         },
         "marker": {
          "symbol": "circle"
         },
         "mode": "lines",
         "name": "right-skewed, CDF",
         "orientation": "v",
         "showlegend": true,
         "type": "scatter",
         "x": {
          "bdata": "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",
          "dtype": "f8"
         },
         "xaxis": "x",
         "y": {
          "bdata": "i3KL2LiMjTIEosJnq800M5Vit+YcgtQzYwAdiAfPbDSALkC251D9NB/ChiWA9IU1k9x+82SRCDaESHZRoNWENhIRQCtpJfs2S+b1b2eGazcF0olI1vzVNyjK0/smADw4t6RW+X+9nDjBEZYgdgf4OELRDjC4h1A5hO8Bj3Xkojk8QnWCtBnyOcjsw5ymUz06hPrPHjJBhDrvqM93IwrIOt1zJFfNsgg73LIcCTcfRjv8u7tm7WOBO4kjUHucJrg7g7pw2V/O7Tsj/cELvHAgPJuiHozlTFA8AhyRQxw0fTxwX83H38CnPFoZzGI/oNE8hxluFcb49zzyThZtUAEePRI88jBiWkE9FEBe2r6eYj3Bk3RSWZqCPTVqNoahXaE9sXzdIfhkvj3DUFC7xwPZPblrGdpla/M9GfQAp9mFDD65c0q0h94jPgfdafmDUzo+aju/NpqgUD73b2wrFhJkPpXrvAPrM3c+9DlqqoS+iT7dWqv3OnibPh6U+ETnPaw+D6Br8BsHvD5yd71fduXKPhYYx/m5/9g+FPQFHDyK5j4JtESpeb7zPiPrikp90wA/klMmumrwCz+RQ0n1ZKAWP1aKQ8lo5SE/CbNa5R+uKz9wHzUzNfQ0P+zM8X4CFj8/DcvnSv6dRj8Bo78I4SdQP8/RFKQ9rlY/TlLHa9BQXz8WwqV5r0dlP7zqVKlEfWw/lmogR73Mcj+jV8Lh8nl4P/ziQS4jdX8/eXZTc8j3gz8jeuTLBQ6JP8kNnfL+Fo8/m0vyFRoWkz9QeCuENDOXP/UUikeO7ps/Pv6ogIGpoD+OeoatJrWjP+L7oTdoHqc/YtmhprToqj9tWTHnpBavP0iopGH31LE/m/9oS65RtD/vpAweZQG3P5GJzH6T47k/1bWxGT73vD/gHc8Efh3APxaA1wh/1sE/zbk/rIulwz+uJSCpY4nFP3v9MUOigMc/eRYx8MOJyT8dGRggLKPLP8ys+gIry80/NZoqlwEA0D9JUQ6E9x/RP4G8OPGSRNI/sIGzW/Bs0z8tQFY8L5jUP63XefVzxdU/2SFNhOnz1j8Bfyr1wiLYP4qirps8Udk/rRt2EJ1+2j+i9lH3NarbP2f1d5Fk09w/B+W0H5L53T9f2PwYNBzfP7yo8RxmHeA/fzjJOHSq4D/Y52RYETXhP9qHpE8QveE//jbqnUlC4j9QjV81m8TiP0/lTTvoQ+M/gpcxwxjA4z+OTAaGGTnkP+C0IJfbruQ/cOzAF1Qh5T+qT2Hqe5DlP60XoGZP/OU/ZRl/Ds5k5j9EvZRF+snmP7bWqwrZK+c/o3Y1tHGK5z/CI9ivzeXnP334UkX4Peg/rt/YXP6S6D9uX/hI7uToP8nlFpTXM+k/By570cp/6T/05Nhx2cjpP039R5sVD+o/nvuLBJJS6j/Ks4rTYZPqPwlXzn6Y0eo/hx7ssUkN6z/6L6c0iUbrPwFsptRqfes/XYuTUQKy6z+BLHpLY+TrP8UdPjOhFOw/VDQBPc9C7D+wSVJUAG/sP9N4ABJHmew/h1pvs7XB7D9cwkoTXujsP3hQeqNRDe0/qAc3aKEw7T+18yb0XVLtPwzEZGWXcu0/pw1bY12R7T8wqVwdv67tP6xU5UnLyu0/SWBvJpDl7T8wu8x3G//tP7Et84p6F+4/DvIsNrou7j+pK6Da5kTuP+D1IGYMWu4/u+hCVTZu7j/6AaC1b4HuPxTeSyjDk+4/vhZr5Dql7j+ZdOe54LXuP5hoOhS+xe4/YfhH/dvU7j9S8EQgQ+PuP+TGo8z78O4/yygE+Q3+7j9FpCFGgQrvP49dvgFdFu8/Ax+HKagh7z8Pdu5taSzvP63j/DSnNu8/x3MUnWdA7z8dVKZ/sEnvPzRB2XOHUu8/+dYf0fFa7z9pBL6x9GLvPxQNPfWUau8/darNQtdx7z9ZAZgLwHjvP7g9+YxTf+8/GcKu0pWF7z+H7u64iovvP2GXb+41ke8/qFVa9pqW7z9G6S4qvZvvP4/yk7ufoO8/8lIWtkWl7z/CjdcAsqnvP1eJK2Dnre8/4hYmd+ix7z/NqxjJt7XvP2W7ALtXue8/9CHnlMq87z9rFDGDEsDvP6II45cxw+8/rgrWyynG7z+S89///MjvPw==",
          "dtype": "f8"
         },
         "yaxis": "y"
        },
        {
         "hovertemplate": "distribution=left-skewed<br>type=PDF<br>x=%{x}<br>y=%{y}<extra></extra>",
         "legendgroup": "left-skewed, PDF",
         "line": {
          "color": "#EF553B",
          "dash": "solid"
         },
         "marker": {
          "symbol": "circle"
         },
         "mode": "lines",
         "name": "left-skewed, PDF",
         "orientation": "v",
         "showlegend": true,
         "type": "scatter",
         "x": {
          "bdata": "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",
          "dtype": "f8"
         },
         "xaxis": "x",
         "y": {
          "bdata": "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",
          "dtype": "f8"
         },
         "yaxis": "y"
        },
        {
         "hovertemplate": "distribution=left-skewed<br>type=CDF<br>x=%{x}<br>y=%{y}<extra></extra>",
         "legendgroup": "left-skewed, CDF",
         "line": {
          "color": "#EF553B",
          "dash": "dot"
         },
         "marker": {
          "symbol": "circle"
         },
         "mode": "lines",
         "name": "left-skewed, CDF",
         "orientation": "v",
         "showlegend": true,
         "type": "scatter",
         "x": {
          "bdata": "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",
          "dtype": "f8"
         },
         "xaxis": "x",
         "y": {
          "bdata": "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",
          "dtype": "f8"
         },
         "yaxis": "y"
        }
       ],
       "layout": {
        "legend": {
         "title": {},
         "tracegroupgap": 0
        },
        "paper_bgcolor": "rgba(0,0,0,0)",
        "plot_bgcolor": "rgba(0,0,0,0)",
        "template": {
         "data": {
          "bar": [
           {
            "error_x": {
             "color": "#2a3f5f"
            },
            "error_y": {
             "color": "#2a3f5f"
            },
            "marker": {
             "line": {
              "color": "#E5ECF6",
              "width": 0.5
             },
             "pattern": {
              "fillmode": "overlay",
              "size": 10,
              "solidity": 0.2
             }
            },
            "type": "bar"
           }
          ],
          "barpolar": [
           {
            "marker": {
             "line": {
              "color": "#E5ECF6",
              "width": 0.5
             },
             "pattern": {
              "fillmode": "overlay",
              "size": 10,
              "solidity": 0.2
             }
            },
            "type": "barpolar"
           }
          ],
          "carpet": [
           {
            "aaxis": {
             "endlinecolor": "#2a3f5f",
             "gridcolor": "white",
             "linecolor": "white",
             "minorgridcolor": "white",
             "startlinecolor": "#2a3f5f"
            },
            "baxis": {
             "endlinecolor": "#2a3f5f",
             "gridcolor": "white",
             "linecolor": "white",
             "minorgridcolor": "white",
             "startlinecolor": "#2a3f5f"
            },
            "type": "carpet"
           }
          ],
          "choropleth": [
           {
            "colorbar": {
             "outlinewidth": 0,
             "ticks": ""
            },
            "type": "choropleth"
           }
          ],
          "contour": [
           {
            "colorbar": {
             "outlinewidth": 0,
             "ticks": ""
            },
            "colorscale": [
             [
              0,
              "#0d0887"
             ],
             [
              0.1111111111111111,
              "#46039f"
             ],
             [
              0.2222222222222222,
              "#7201a8"
             ],
             [
              0.3333333333333333,
              "#9c179e"
             ],
             [
              0.4444444444444444,
              "#bd3786"
             ],
             [
              0.5555555555555556,
              "#d8576b"
             ],
             [
              0.6666666666666666,
              "#ed7953"
             ],
             [
              0.7777777777777778,
              "#fb9f3a"
             ],
             [
              0.8888888888888888,
              "#fdca26"
             ],
             [
              1,
              "#f0f921"
             ]
            ],
            "type": "contour"
           }
          ],
          "contourcarpet": [
           {
            "colorbar": {
             "outlinewidth": 0,
             "ticks": ""
            },
            "type": "contourcarpet"
           }
          ],
          "heatmap": [
           {
            "colorbar": {
             "outlinewidth": 0,
             "ticks": ""
            },
            "colorscale": [
             [
              0,
              "#0d0887"
             ],
             [
              0.1111111111111111,
              "#46039f"
             ],
             [
              0.2222222222222222,
              "#7201a8"
             ],
             [
              0.3333333333333333,
              "#9c179e"
             ],
             [
              0.4444444444444444,
              "#bd3786"
             ],
             [
              0.5555555555555556,
              "#d8576b"
             ],
             [
              0.6666666666666666,
              "#ed7953"
             ],
             [
              0.7777777777777778,
              "#fb9f3a"
             ],
             [
              0.8888888888888888,
              "#fdca26"
             ],
             [
              1,
              "#f0f921"
             ]
            ],
            "type": "heatmap"
           }
          ],
          "histogram": [
           {
            "marker": {
             "pattern": {
              "fillmode": "overlay",
              "size": 10,
              "solidity": 0.2
             }
            },
            "type": "histogram"
           }
          ],
          "histogram2d": [
           {
            "colorbar": {
             "outlinewidth": 0,
             "ticks": ""
            },
            "colorscale": [
             [
              0,
              "#0d0887"
             ],
             [
              0.1111111111111111,
              "#46039f"
             ],
             [
              0.2222222222222222,
              "#7201a8"
             ],
             [
              0.3333333333333333,
              "#9c179e"
             ],
             [
              0.4444444444444444,
              "#bd3786"
             ],
             [
              0.5555555555555556,
              "#d8576b"
             ],
             [
              0.6666666666666666,
              "#ed7953"
             ],
             [
              0.7777777777777778,
              "#fb9f3a"
             ],
             [
              0.8888888888888888,
              "#fdca26"
             ],
             [
              1,
              "#f0f921"
             ]
            ],
            "type": "histogram2d"
           }
          ],
          "histogram2dcontour": [
           {
            "colorbar": {
             "outlinewidth": 0,
             "ticks": ""
            },
            "colorscale": [
             [
              0,
              "#0d0887"
             ],
             [
              0.1111111111111111,
              "#46039f"
             ],
             [
              0.2222222222222222,
              "#7201a8"
             ],
             [
              0.3333333333333333,
              "#9c179e"
             ],
             [
              0.4444444444444444,
              "#bd3786"
             ],
             [
              0.5555555555555556,
              "#d8576b"
             ],
             [
              0.6666666666666666,
              "#ed7953"
             ],
             [
              0.7777777777777778,
              "#fb9f3a"
             ],
             [
              0.8888888888888888,
              "#fdca26"
             ],
             [
              1,
              "#f0f921"
             ]
            ],
            "type": "histogram2dcontour"
           }
          ],
          "mesh3d": [
           {
            "colorbar": {
             "outlinewidth": 0,
             "ticks": ""
            },
            "type": "mesh3d"
           }
          ],
          "parcoords": [
           {
            "line": {
             "colorbar": {
              "outlinewidth": 0,
              "ticks": ""
             }
            },
            "type": "parcoords"
           }
          ],
          "pie": [
           {
            "automargin": true,
            "type": "pie"
           }
          ],
          "scatter": [
           {
            "fillpattern": {
             "fillmode": "overlay",
             "size": 10,
             "solidity": 0.2
            },
            "type": "scatter"
           }
          ],
          "scatter3d": [
           {
            "line": {
             "colorbar": {
              "outlinewidth": 0,
              "ticks": ""
             }
            },
            "marker": {
             "colorbar": {
              "outlinewidth": 0,
              "ticks": ""
             }
            },
            "type": "scatter3d"
           }
          ],
          "scattercarpet": [
           {
            "marker": {
             "colorbar": {
              "outlinewidth": 0,
              "ticks": ""
             }
            },
            "type": "scattercarpet"
           }
          ],
          "scattergeo": [
           {
            "marker": {
             "colorbar": {
              "outlinewidth": 0,
              "ticks": ""
             }
            },
            "type": "scattergeo"
           }
          ],
          "scattergl": [
           {
            "marker": {
             "colorbar": {
              "outlinewidth": 0,
              "ticks": ""
             }
            },
            "type": "scattergl"
           }
          ],
          "scattermap": [
           {
            "marker": {
             "colorbar": {
              "outlinewidth": 0,
              "ticks": ""
             }
            },
            "type": "scattermap"
           }
          ],
          "scattermapbox": [
           {
            "marker": {
             "colorbar": {
              "outlinewidth": 0,
              "ticks": ""
             }
            },
            "type": "scattermapbox"
           }
          ],
          "scatterpolar": [
           {
            "marker": {
             "colorbar": {
              "outlinewidth": 0,
              "ticks": ""
             }
            },
            "type": "scatterpolar"
           }
          ],
          "scatterpolargl": [
           {
            "marker": {
             "colorbar": {
              "outlinewidth": 0,
              "ticks": ""
             }
            },
            "type": "scatterpolargl"
           }
          ],
          "scatterternary": [
           {
            "marker": {
             "colorbar": {
              "outlinewidth": 0,
              "ticks": ""
             }
            },
            "type": "scatterternary"
           }
          ],
          "surface": [
           {
            "colorbar": {
             "outlinewidth": 0,
             "ticks": ""
            },
            "colorscale": [
             [
              0,
              "#0d0887"
             ],
             [
              0.1111111111111111,
              "#46039f"
             ],
             [
              0.2222222222222222,
              "#7201a8"
             ],
             [
              0.3333333333333333,
              "#9c179e"
             ],
             [
              0.4444444444444444,
              "#bd3786"
             ],
             [
              0.5555555555555556,
              "#d8576b"
             ],
             [
              0.6666666666666666,
              "#ed7953"
             ],
             [
              0.7777777777777778,
              "#fb9f3a"
             ],
             [
              0.8888888888888888,
              "#fdca26"
             ],
             [
              1,
              "#f0f921"
             ]
            ],
            "type": "surface"
           }
          ],
          "table": [
           {
            "cells": {
             "fill": {
              "color": "#EBF0F8"
             },
             "line": {
              "color": "white"
             }
            },
            "header": {
             "fill": {
              "color": "#C8D4E3"
             },
             "line": {
              "color": "white"
             }
            },
            "type": "table"
           }
          ]
         },
         "layout": {
          "annotationdefaults": {
           "arrowcolor": "#2a3f5f",
           "arrowhead": 0,
           "arrowwidth": 1
          },
          "autotypenumbers": "strict",
          "coloraxis": {
           "colorbar": {
            "outlinewidth": 0,
            "ticks": ""
           }
          },
          "colorscale": {
           "diverging": [
            [
             0,
             "#8e0152"
            ],
            [
             0.1,
             "#c51b7d"
            ],
            [
             0.2,
             "#de77ae"
            ],
            [
             0.3,
             "#f1b6da"
            ],
            [
             0.4,
             "#fde0ef"
            ],
            [
             0.5,
             "#f7f7f7"
            ],
            [
             0.6,
             "#e6f5d0"
            ],
            [
             0.7,
             "#b8e186"
            ],
            [
             0.8,
             "#7fbc41"
            ],
            [
             0.9,
             "#4d9221"
            ],
            [
             1,
             "#276419"
            ]
           ],
           "sequential": [
            [
             0,
             "#0d0887"
            ],
            [
             0.1111111111111111,
             "#46039f"
            ],
            [
             0.2222222222222222,
             "#7201a8"
            ],
            [
             0.3333333333333333,
             "#9c179e"
            ],
            [
             0.4444444444444444,
             "#bd3786"
            ],
            [
             0.5555555555555556,
             "#d8576b"
            ],
            [
             0.6666666666666666,
             "#ed7953"
            ],
            [
             0.7777777777777778,
             "#fb9f3a"
            ],
            [
             0.8888888888888888,
             "#fdca26"
            ],
            [
             1,
             "#f0f921"
            ]
           ],
           "sequentialminus": [
            [
             0,
             "#0d0887"
            ],
            [
             0.1111111111111111,
             "#46039f"
            ],
            [
             0.2222222222222222,
             "#7201a8"
            ],
            [
             0.3333333333333333,
             "#9c179e"
            ],
            [
             0.4444444444444444,
             "#bd3786"
            ],
            [
             0.5555555555555556,
             "#d8576b"
            ],
            [
             0.6666666666666666,
             "#ed7953"
            ],
            [
             0.7777777777777778,
             "#fb9f3a"
            ],
            [
             0.8888888888888888,
             "#fdca26"
            ],
            [
             1,
             "#f0f921"
            ]
           ]
          },
          "colorway": [
           "#636efa",
           "#EF553B",
           "#00cc96",
           "#ab63fa",
           "#FFA15A",
           "#19d3f3",
           "#FF6692",
           "#B6E880",
           "#FF97FF",
           "#FECB52"
          ],
          "font": {
           "color": "#2a3f5f"
          },
          "geo": {
           "bgcolor": "white",
           "lakecolor": "white",
           "landcolor": "#E5ECF6",
           "showlakes": true,
           "showland": true,
           "subunitcolor": "white"
          },
          "hoverlabel": {
           "align": "left"
          },
          "hovermode": "closest",
          "mapbox": {
           "style": "light"
          },
          "paper_bgcolor": "white",
          "plot_bgcolor": "#E5ECF6",
          "polar": {
           "angularaxis": {
            "gridcolor": "white",
            "linecolor": "white",
            "ticks": ""
           },
           "bgcolor": "#E5ECF6",
           "radialaxis": {
            "gridcolor": "white",
            "linecolor": "white",
            "ticks": ""
           }
          },
          "scene": {
           "xaxis": {
            "backgroundcolor": "#E5ECF6",
            "gridcolor": "white",
            "gridwidth": 2,
            "linecolor": "white",
            "showbackground": true,
            "ticks": "",
            "zerolinecolor": "white"
           },
           "yaxis": {
            "backgroundcolor": "#E5ECF6",
            "gridcolor": "white",
            "gridwidth": 2,
            "linecolor": "white",
            "showbackground": true,
            "ticks": "",
            "zerolinecolor": "white"
           },
           "zaxis": {
            "backgroundcolor": "#E5ECF6",
            "gridcolor": "white",
            "gridwidth": 2,
            "linecolor": "white",
            "showbackground": true,
            "ticks": "",
            "zerolinecolor": "white"
           }
          },
          "shapedefaults": {
           "line": {
            "color": "#2a3f5f"
           }
          },
          "ternary": {
           "aaxis": {
            "gridcolor": "white",
            "linecolor": "white",
            "ticks": ""
           },
           "baxis": {
            "gridcolor": "white",
            "linecolor": "white",
            "ticks": ""
           },
           "bgcolor": "#E5ECF6",
           "caxis": {
            "gridcolor": "white",
            "linecolor": "white",
            "ticks": ""
           }
          },
          "title": {
           "x": 0.05
          },
          "xaxis": {
           "automargin": true,
           "gridcolor": "white",
           "linecolor": "white",
           "ticks": "",
           "title": {
            "standoff": 15
           },
           "zerolinecolor": "white",
           "zerolinewidth": 2
          },
          "yaxis": {
           "automargin": true,
           "gridcolor": "white",
           "linecolor": "white",
           "ticks": "",
           "title": {
            "standoff": 15
           },
           "zerolinecolor": "white",
           "zerolinewidth": 2
          }
         }
        },
        "title": {
         "text": "Gumbel Distributions (loc=0, scale=1)"
        },
        "xaxis": {
         "anchor": "y",
         "domain": [
          0,
          1
         ],
         "title": {
          "text": "𝜏"
         }
        },
        "yaxis": {
         "anchor": "x",
         "domain": [
          0,
          1
         ],
         "title": {
          "text": "density or probability"
         }
        }
       }
      }
     },
     "metadata": {},
     "output_type": "display_data"
    }
   ],
   "source": [
    "# Plot PDFs and CDFs of Gumbel distributions\n",
    "import plotly.express as px\n",
    "import numpy as np\n",
    "\n",
    "def plot_gumbel_funcs(m=0):\n",
    "    x = np.linspace(-5, 5, 200)\n",
    "    # PDFs\n",
    "    pdf_right = np.exp(m - x - np.exp(m - x))\n",
    "    pdf_left = np.exp(-m + x - np.exp(-m + x))     \n",
    "    # CDFs\n",
    "    cdf_right = np.exp(-np.exp(m - x))\n",
    "    cdf_left = 1 - np.exp(-np.exp(-m + x))    \n",
    "\n",
    "    df = pd.DataFrame({\n",
    "        'x': np.concatenate([x, x, x, x]),\n",
    "        'y': np.concatenate([pdf_right, pdf_left, cdf_right, cdf_left]),\n",
    "        'type': ['PDF']*len(x) + ['PDF']*len(x) + ['CDF']*len(x) + ['CDF']*len(x),\n",
    "        'distribution': ['right-skewed']*len(x) + ['left-skewed']*len(x) + \n",
    "                       ['right-skewed']*len(x) + ['left-skewed']*len(x)\n",
    "    })\n",
    "\n",
    "    # Create plot\n",
    "    fig = px.line(df, x='x', y='y', color='distribution', line_dash='type',\n",
    "                  title=f'Gumbel Distributions (loc={m}, scale=1)')\n",
    "\n",
    "    # Update layout\n",
    "    fig.update_layout(\n",
    "        xaxis_title='𝜏',\n",
    "        yaxis_title='density or probability',\n",
    "        legend_title=None,\n",
    "        plot_bgcolor='rgba(0,0,0,0)',\n",
    "        paper_bgcolor='rgba(0,0,0,0)'\n",
    "    )\n",
    "\n",
    "    return fig\n",
    "\n",
    "# Create interactive plot with default m=0\n",
    "plot_gumbel_funcs(m=0)"
   ]
  },
  {
   "cell_type": "markdown",
   "metadata": {},
   "source": [
    "\n",
    "$$\n",
    "\\begin{aligned}\n",
    "\\mathrm{Gumbel}_r &\\mathrm{pdf}(\\text{loc}=m, \\text{scale}=1) = e^{m-x-e^{m-x}}\\\\\n",
    "\\mathrm{Gumbel}_r &\\mathrm{CDF}(\\text{loc}=m, \\text{scale}=1) = e^{-e^{m-x}}\\\\\n",
    "\\mathrm{Gumbel}_l &\\mathrm{pdf}(\\text{loc}=m, \\text{scale}=1) = e^{m+x-e^{m+x}}\\\\\n",
    "\\mathrm{Gumbel}_l &\\mathrm{CDF}(\\text{loc}=m, \\text{scale}=1) = 1-e^{-e^{m+x}}\n",
    "\\end{aligned}\n",
    "$$ \n"
   ]
  },
  {
   "cell_type": "code",
   "execution_count": null,
   "metadata": {},
   "outputs": [],
   "source": []
  }
 ],
 "metadata": {
  "kernelspec": {
   "display_name": ".venv",
   "language": "python",
   "name": "python3"
  },
  "language_info": {
   "codemirror_mode": {
    "name": "ipython",
    "version": 3
   },
   "file_extension": ".py",
   "mimetype": "text/x-python",
   "name": "python",
   "nbconvert_exporter": "python",
   "pygments_lexer": "ipython3",
   "version": "3.13.1"
  }
 },
 "nbformat": 4,
 "nbformat_minor": 2
}
