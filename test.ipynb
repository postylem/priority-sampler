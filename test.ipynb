{
  "cells": [
    {
      "cell_type": "markdown",
      "metadata": {},
      "source": [
        "---\n",
        "title: Priority sampling test\n",
        "author: Jacob Hoover Vigly\n",
        "date: today\n",
        "code-fold: true\n",
        "---"
      ]
    },
    {
      "cell_type": "code",
      "execution_count": 1,
      "metadata": {},
      "outputs": [],
      "source": [
        "%load_ext autoreload\n",
        "%autoreload complete --print"
      ]
    },
    {
      "cell_type": "code",
      "execution_count": 241,
      "metadata": {},
      "outputs": [
        {
          "name": "stdout",
          "output_type": "stream",
          "text": [
            "Reloading 'priority.priority_sampler'.\n"
          ]
        }
      ],
      "source": [
        "from priority import PrioritySampler, normalize\n",
        "import scipy, numpy as np, pandas as pd, plotly.express as px\n",
        "pd.options.plotting.backend = \"plotly\"\n",
        "import plotly.io as pio\n",
        "pio.renderers.default = 'svg'"
      ]
    },
    {
      "cell_type": "code",
      "execution_count": 699,
      "metadata": {},
      "outputs": [
        {
          "data": {
            "image/svg+xml": [
              "<svg class=\"main-svg\" xmlns=\"http://www.w3.org/2000/svg\" xmlns:xlink=\"http://www.w3.org/1999/xlink\" width=\"700\" height=\"500\" style=\"\" viewBox=\"0 0 700 500\"><rect x=\"0\" y=\"0\" width=\"700\" height=\"500\" style=\"fill: rgb(255, 255, 255); fill-opacity: 1;\"/><defs id=\"defs-5370bf\"><g class=\"clips\"><clipPath id=\"clip5370bfxyplot\" class=\"plotclip\"><rect width=\"482\" height=\"360\"/></clipPath><clipPath class=\"axesclip\" id=\"clip5370bfx\"><rect x=\"80\" y=\"0\" width=\"482\" height=\"500\"/></clipPath><clipPath class=\"axesclip\" id=\"clip5370bfy\"><rect x=\"0\" y=\"60\" width=\"700\" height=\"360\"/></clipPath><clipPath class=\"axesclip\" id=\"clip5370bfxy\"><rect x=\"80\" y=\"60\" width=\"482\" height=\"360\"/></clipPath></g><g class=\"gradients\"/><g class=\"patterns\"/></defs><g class=\"bglayer\"><rect class=\"bg\" x=\"80\" y=\"60\" width=\"482\" height=\"360\" style=\"fill: rgb(255, 250, 250); fill-opacity: 1; stroke-width: 0;\"/></g><g class=\"layer-below\"><g class=\"imagelayer\"/><g class=\"shapelayer\"/></g><g class=\"cartesianlayer\"><g class=\"subplot xy\"><g class=\"layer-subplot\"><g class=\"shapelayer\"/><g class=\"imagelayer\"/></g><g class=\"minor-gridlayer\"><g class=\"x\"/><g class=\"y\"/></g><g class=\"gridlayer\"><g class=\"x\"><path class=\"xgrid crisp\" transform=\"translate(199,0)\" d=\"M0,60v360\" style=\"stroke: rgb(255, 255, 255); stroke-opacity: 1; stroke-width: 1px;\"/><path class=\"xgrid crisp\" transform=\"translate(293.78,0)\" d=\"M0,60v360\" style=\"stroke: rgb(255, 255, 255); stroke-opacity: 1; stroke-width: 1px;\"/><path class=\"xgrid crisp\" transform=\"translate(388.55,0)\" d=\"M0,60v360\" style=\"stroke: rgb(255, 255, 255); stroke-opacity: 1; stroke-width: 1px;\"/><path class=\"xgrid crisp\" transform=\"translate(483.33,0)\" d=\"M0,60v360\" style=\"stroke: rgb(255, 255, 255); stroke-opacity: 1; stroke-width: 1px;\"/></g><g class=\"y\"><path class=\"ygrid crisp\" transform=\"translate(0,336.43)\" d=\"M80,0h482\" style=\"stroke: rgb(255, 255, 255); stroke-opacity: 1; stroke-width: 1px;\"/><path class=\"ygrid crisp\" transform=\"translate(0,286.98)\" d=\"M80,0h482\" style=\"stroke: rgb(255, 255, 255); stroke-opacity: 1; stroke-width: 1px;\"/><path class=\"ygrid crisp\" transform=\"translate(0,237.53)\" d=\"M80,0h482\" style=\"stroke: rgb(255, 255, 255); stroke-opacity: 1; stroke-width: 1px;\"/><path class=\"ygrid crisp\" transform=\"translate(0,188.07)\" d=\"M80,0h482\" style=\"stroke: rgb(255, 255, 255); stroke-opacity: 1; stroke-width: 1px;\"/><path class=\"ygrid crisp\" transform=\"translate(0,138.62)\" d=\"M80,0h482\" style=\"stroke: rgb(255, 255, 255); stroke-opacity: 1; stroke-width: 1px;\"/><path class=\"ygrid crisp\" transform=\"translate(0,89.17)\" d=\"M80,0h482\" style=\"stroke: rgb(255, 255, 255); stroke-opacity: 1; stroke-width: 1px;\"/></g></g><g class=\"zerolinelayer\"><path class=\"xzl zl crisp\" transform=\"translate(104.22,0)\" d=\"M0,60v360\" style=\"stroke: rgb(255, 255, 255); stroke-opacity: 1; stroke-width: 2px;\"/><path class=\"yzl zl crisp\" transform=\"translate(0,385.89)\" d=\"M80,0h482\" style=\"stroke: rgb(255, 255, 255); stroke-opacity: 1; stroke-width: 2px;\"/></g><g class=\"layer-between\"><g class=\"shapelayer\"/><g class=\"imagelayer\"/></g><path class=\"xlines-below\"/><path class=\"ylines-below\"/><g class=\"overlines-below\"/><g class=\"xaxislayer-below\"/><g class=\"yaxislayer-below\"/><g class=\"overaxes-below\"/><g class=\"overplot\"><g class=\"xy\" transform=\"translate(80,60)\" clip-path=\"url(#clip5370bfxyplot)\"><g class=\"scatterlayer mlayer\"><g class=\"trace scatter tracea5d356\" style=\"stroke-miterlimit: 2; opacity: 1;\"><g class=\"fills\"/><g class=\"errorbars\"/><g class=\"lines\"/><g class=\"points\"><path class=\"point\" transform=\"translate(33.47,325.89)\" d=\"M9.75,0L0,9.75L-9.75,0L0,-9.75Z\" style=\"opacity: 0.4; stroke-width: 0px; fill: rgb(99, 110, 250); fill-opacity: 1;\"/><path class=\"point\" transform=\"translate(39.12,276.43)\" d=\"M9.75,0L0,9.75L-9.75,0L0,-9.75Z\" style=\"opacity: 0.4; stroke-width: 0px; fill: rgb(99, 110, 250); fill-opacity: 1;\"/><path class=\"point\" transform=\"translate(43.7,226.98)\" d=\"M9.75,0L0,9.75L-9.75,0L0,-9.75Z\" style=\"opacity: 0.4; stroke-width: 0px; fill: rgb(99, 110, 250); fill-opacity: 1;\"/><path class=\"point\" transform=\"translate(63.94,177.53)\" d=\"M9.75,0L0,9.75L-9.75,0L0,-9.75Z\" style=\"opacity: 0.4; stroke-width: 0px; fill: rgb(99, 110, 250); fill-opacity: 1;\"/><path class=\"point\" transform=\"translate(224.57,128.07)\" d=\"M9.75,0L0,9.75L-9.75,0L0,-9.75Z\" style=\"opacity: 0.4; stroke-width: 0px; fill: rgb(99, 110, 250); fill-opacity: 1;\"/><path class=\"point\" transform=\"translate(263.99,78.62)\" d=\"M9.75,0L0,9.75L-9.75,0L0,-9.75Z\" style=\"opacity: 0.4; stroke-width: 0px; fill: rgb(99, 110, 250); fill-opacity: 1;\"/><path class=\"point\" transform=\"translate(448.52,29.17)\" d=\"M9.75,0L0,9.75L-9.75,0L0,-9.75Z\" style=\"opacity: 0.4; stroke-width: 0px; fill: rgb(99, 110, 250); fill-opacity: 1;\"/></g><g class=\"text\"/></g><g class=\"trace scatter trace9faabd\" style=\"stroke-miterlimit: 2; opacity: 0.7;\"><g class=\"fills\"/><g class=\"errorbars\"><g class=\"errorbar\"><path class=\"xerror\" d=\"M41.03,334.25v8m0,-4H28.06m0,-4v8\" style=\"vector-effect: none; stroke-width: 2px; stroke: rgb(239, 85, 59); stroke-opacity: 1;\"/></g><g class=\"errorbar\"><path class=\"xerror\" d=\"M50.29,284.8v8m0,-4H34.81m0,-4v8\" style=\"vector-effect: none; stroke-width: 2px; stroke: rgb(239, 85, 59); stroke-opacity: 1;\"/></g><g class=\"errorbar\"><path class=\"xerror\" d=\"M52.42,235.34v8m0,-4H37.66m0,-4v8\" style=\"vector-effect: none; stroke-width: 2px; stroke: rgb(239, 85, 59); stroke-opacity: 1;\"/></g><g class=\"errorbar\"><path class=\"xerror\" d=\"M72.84,185.89v8m0,-4H52.01m0,-4v8\" style=\"vector-effect: none; stroke-width: 2px; stroke: rgb(239, 85, 59); stroke-opacity: 1;\"/></g><g class=\"errorbar\"><path class=\"xerror\" d=\"M230.18,136.44v8m0,-4H209.65m0,-4v8\" style=\"vector-effect: none; stroke-width: 2px; stroke: rgb(239, 85, 59); stroke-opacity: 1;\"/></g><g class=\"errorbar\"><path class=\"xerror\" d=\"M272.48,86.98v8m0,-4H253.91m0,-4v8\" style=\"vector-effect: none; stroke-width: 2px; stroke: rgb(239, 85, 59); stroke-opacity: 1;\"/></g><g class=\"errorbar\"><path class=\"xerror\" d=\"M453.68,37.53v8m0,-4H442.1m0,-4v8\" style=\"vector-effect: none; stroke-width: 2px; stroke: rgb(239, 85, 59); stroke-opacity: 1;\"/></g></g><g class=\"lines\"/><g class=\"points\"><path class=\"point\" transform=\"translate(34.54,338.25)\" d=\"M3,0A3,3 0 1,1 0,-3A3,3 0 0,1 3,0Z\" style=\"opacity: 1; stroke-width: 0px; fill: rgb(239, 85, 59); fill-opacity: 1;\"/><path class=\"point\" transform=\"translate(42.55,288.8)\" d=\"M3,0A3,3 0 1,1 0,-3A3,3 0 0,1 3,0Z\" style=\"opacity: 1; stroke-width: 0px; fill: rgb(239, 85, 59); fill-opacity: 1;\"/><path class=\"point\" transform=\"translate(45.04,239.34)\" d=\"M3,0A3,3 0 1,1 0,-3A3,3 0 0,1 3,0Z\" style=\"opacity: 1; stroke-width: 0px; fill: rgb(239, 85, 59); fill-opacity: 1;\"/><path class=\"point\" transform=\"translate(62.43,189.89)\" d=\"M3,0A3,3 0 1,1 0,-3A3,3 0 0,1 3,0Z\" style=\"opacity: 1; stroke-width: 0px; fill: rgb(239, 85, 59); fill-opacity: 1;\"/><path class=\"point\" transform=\"translate(219.92,140.44)\" d=\"M3,0A3,3 0 1,1 0,-3A3,3 0 0,1 3,0Z\" style=\"opacity: 1; stroke-width: 0px; fill: rgb(239, 85, 59); fill-opacity: 1;\"/><path class=\"point\" transform=\"translate(263.2,90.98)\" d=\"M3,0A3,3 0 1,1 0,-3A3,3 0 0,1 3,0Z\" style=\"opacity: 1; stroke-width: 0px; fill: rgb(239, 85, 59); fill-opacity: 1;\"/><path class=\"point\" transform=\"translate(447.89,41.53)\" d=\"M3,0A3,3 0 1,1 0,-3A3,3 0 0,1 3,0Z\" style=\"opacity: 1; stroke-width: 0px; fill: rgb(239, 85, 59); fill-opacity: 1;\"/></g><g class=\"text\"/></g><g class=\"trace scatter trace0b09c5\" style=\"stroke-miterlimit: 2; opacity: 0.7;\"><g class=\"fills\"/><g class=\"errorbars\"><g class=\"errorbar\"><path class=\"xerror\" d=\"M36.57,329.3v8m0,-4H28.39m0,-4v8\" style=\"vector-effect: none; stroke-width: 2px; stroke: rgb(0, 204, 150); stroke-opacity: 1;\"/></g><g class=\"errorbar\"><path class=\"xerror\" d=\"M40.17,279.85v8m0,-4H31.49m0,-4v8\" style=\"vector-effect: none; stroke-width: 2px; stroke: rgb(0, 204, 150); stroke-opacity: 1;\"/></g><g class=\"errorbar\"><path class=\"xerror\" d=\"M44.73,230.4v8m0,-4H35.75m0,-4v8\" style=\"vector-effect: none; stroke-width: 2px; stroke: rgb(0, 204, 150); stroke-opacity: 1;\"/></g><g class=\"errorbar\"><path class=\"xerror\" d=\"M71.9,180.95v8m0,-4H56.17m0,-4v8\" style=\"vector-effect: none; stroke-width: 2px; stroke: rgb(0, 204, 150); stroke-opacity: 1;\"/></g><g class=\"errorbar\"><path class=\"xerror\" d=\"M220.7,131.49v8m0,-4H198.99m0,-4v8\" style=\"vector-effect: none; stroke-width: 2px; stroke: rgb(0, 204, 150); stroke-opacity: 1;\"/></g><g class=\"errorbar\"><path class=\"xerror\" d=\"M276.41,82.04v8m0,-4H255.71m0,-4v8\" style=\"vector-effect: none; stroke-width: 2px; stroke: rgb(0, 204, 150); stroke-opacity: 1;\"/></g><g class=\"errorbar\"><path class=\"xerror\" d=\"M454.03,32.59v8m0,-4H434.59m0,-4v8\" style=\"vector-effect: none; stroke-width: 2px; stroke: rgb(0, 204, 150); stroke-opacity: 1;\"/></g></g><g class=\"lines\"/><g class=\"points\"><path class=\"point\" transform=\"translate(32.48,333.3)\" d=\"M3,0A3,3 0 1,1 0,-3A3,3 0 0,1 3,0Z\" style=\"opacity: 1; stroke-width: 0px; fill: rgb(0, 204, 150); fill-opacity: 1;\"/><path class=\"point\" transform=\"translate(35.83,283.85)\" d=\"M3,0A3,3 0 1,1 0,-3A3,3 0 0,1 3,0Z\" style=\"opacity: 1; stroke-width: 0px; fill: rgb(0, 204, 150); fill-opacity: 1;\"/><path class=\"point\" transform=\"translate(40.24,234.4)\" d=\"M3,0A3,3 0 1,1 0,-3A3,3 0 0,1 3,0Z\" style=\"opacity: 1; stroke-width: 0px; fill: rgb(0, 204, 150); fill-opacity: 1;\"/><path class=\"point\" transform=\"translate(64.03,184.95)\" d=\"M3,0A3,3 0 1,1 0,-3A3,3 0 0,1 3,0Z\" style=\"opacity: 1; stroke-width: 0px; fill: rgb(0, 204, 150); fill-opacity: 1;\"/><path class=\"point\" transform=\"translate(209.84,135.49)\" d=\"M3,0A3,3 0 1,1 0,-3A3,3 0 0,1 3,0Z\" style=\"opacity: 1; stroke-width: 0px; fill: rgb(0, 204, 150); fill-opacity: 1;\"/><path class=\"point\" transform=\"translate(266.06,86.04)\" d=\"M3,0A3,3 0 1,1 0,-3A3,3 0 0,1 3,0Z\" style=\"opacity: 1; stroke-width: 0px; fill: rgb(0, 204, 150); fill-opacity: 1;\"/><path class=\"point\" transform=\"translate(444.31,36.59)\" d=\"M3,0A3,3 0 1,1 0,-3A3,3 0 0,1 3,0Z\" style=\"opacity: 1; stroke-width: 0px; fill: rgb(0, 204, 150); fill-opacity: 1;\"/></g><g class=\"text\"/></g><g class=\"trace scatter trace61b1f4\" style=\"stroke-miterlimit: 2; opacity: 0.7;\"><g class=\"fills\"/><g class=\"errorbars\"><g class=\"errorbar\"><path class=\"xerror\" d=\"M36.57,324.36v8m0,-4H28.39m0,-4v8\" style=\"vector-effect: none; stroke-width: 2px; stroke: rgb(171, 99, 250); stroke-opacity: 1;\"/></g><g class=\"errorbar\"><path class=\"xerror\" d=\"M40.17,274.91v8m0,-4H31.49m0,-4v8\" style=\"vector-effect: none; stroke-width: 2px; stroke: rgb(171, 99, 250); stroke-opacity: 1;\"/></g><g class=\"errorbar\"><path class=\"xerror\" d=\"M44.73,225.45v8m0,-4H35.75m0,-4v8\" style=\"vector-effect: none; stroke-width: 2px; stroke: rgb(171, 99, 250); stroke-opacity: 1;\"/></g><g class=\"errorbar\"><path class=\"xerror\" d=\"M71.9,176v8m0,-4H56.17m0,-4v8\" style=\"vector-effect: none; stroke-width: 2px; stroke: rgb(171, 99, 250); stroke-opacity: 1;\"/></g><g class=\"errorbar\"><path class=\"xerror\" d=\"M220.7,126.55000000000001v8m0,-4H198.99m0,-4v8\" style=\"vector-effect: none; stroke-width: 2px; stroke: rgb(171, 99, 250); stroke-opacity: 1;\"/></g><g class=\"errorbar\"><path class=\"xerror\" d=\"M276.41,77.09v8m0,-4H255.71m0,-4v8\" style=\"vector-effect: none; stroke-width: 2px; stroke: rgb(171, 99, 250); stroke-opacity: 1;\"/></g><g class=\"errorbar\"><path class=\"xerror\" d=\"M454.03,27.64v8m0,-4H434.59m0,-4v8\" style=\"vector-effect: none; stroke-width: 2px; stroke: rgb(171, 99, 250); stroke-opacity: 1;\"/></g></g><g class=\"lines\"/><g class=\"points\"><path class=\"point\" transform=\"translate(32.48,328.36)\" d=\"M3,0A3,3 0 1,1 0,-3A3,3 0 0,1 3,0Z\" style=\"opacity: 1; stroke-width: 0px; fill: rgb(171, 99, 250); fill-opacity: 1;\"/><path class=\"point\" transform=\"translate(35.83,278.91)\" d=\"M3,0A3,3 0 1,1 0,-3A3,3 0 0,1 3,0Z\" style=\"opacity: 1; stroke-width: 0px; fill: rgb(171, 99, 250); fill-opacity: 1;\"/><path class=\"point\" transform=\"translate(40.24,229.45)\" d=\"M3,0A3,3 0 1,1 0,-3A3,3 0 0,1 3,0Z\" style=\"opacity: 1; stroke-width: 0px; fill: rgb(171, 99, 250); fill-opacity: 1;\"/><path class=\"point\" transform=\"translate(64.03,180)\" d=\"M3,0A3,3 0 1,1 0,-3A3,3 0 0,1 3,0Z\" style=\"opacity: 1; stroke-width: 0px; fill: rgb(171, 99, 250); fill-opacity: 1;\"/><path class=\"point\" transform=\"translate(209.84,130.55)\" d=\"M3,0A3,3 0 1,1 0,-3A3,3 0 0,1 3,0Z\" style=\"opacity: 1; stroke-width: 0px; fill: rgb(171, 99, 250); fill-opacity: 1;\"/><path class=\"point\" transform=\"translate(266.06,81.09)\" d=\"M3,0A3,3 0 1,1 0,-3A3,3 0 0,1 3,0Z\" style=\"opacity: 1; stroke-width: 0px; fill: rgb(171, 99, 250); fill-opacity: 1;\"/><path class=\"point\" transform=\"translate(444.31,31.64)\" d=\"M3,0A3,3 0 1,1 0,-3A3,3 0 0,1 3,0Z\" style=\"opacity: 1; stroke-width: 0px; fill: rgb(171, 99, 250); fill-opacity: 1;\"/></g><g class=\"text\"/></g><g class=\"trace scatter traceba7d79\" style=\"stroke-miterlimit: 2; opacity: 0.7;\"><g class=\"fills\"/><g class=\"errorbars\"><g class=\"errorbar\"><path class=\"xerror\" d=\"M36.57,319.41v8m0,-4H28.39m0,-4v8\" style=\"vector-effect: none; stroke-width: 2px; stroke: rgb(255, 161, 90); stroke-opacity: 1;\"/></g><g class=\"errorbar\"><path class=\"xerror\" d=\"M40.17,269.96v8m0,-4H31.49m0,-4v8\" style=\"vector-effect: none; stroke-width: 2px; stroke: rgb(255, 161, 90); stroke-opacity: 1;\"/></g><g class=\"errorbar\"><path class=\"xerror\" d=\"M44.73,220.51v8m0,-4H35.75m0,-4v8\" style=\"vector-effect: none; stroke-width: 2px; stroke: rgb(255, 161, 90); stroke-opacity: 1;\"/></g><g class=\"errorbar\"><path class=\"xerror\" d=\"M71.9,171.05v8m0,-4H56.17m0,-4v8\" style=\"vector-effect: none; stroke-width: 2px; stroke: rgb(255, 161, 90); stroke-opacity: 1;\"/></g><g class=\"errorbar\"><path class=\"xerror\" d=\"M220.7,121.6v8m0,-4H198.99m0,-4v8\" style=\"vector-effect: none; stroke-width: 2px; stroke: rgb(255, 161, 90); stroke-opacity: 1;\"/></g><g class=\"errorbar\"><path class=\"xerror\" d=\"M276.41,72.15v8m0,-4H255.71m0,-4v8\" style=\"vector-effect: none; stroke-width: 2px; stroke: rgb(255, 161, 90); stroke-opacity: 1;\"/></g><g class=\"errorbar\"><path class=\"xerror\" d=\"M454.03,22.7v8m0,-4H434.59m0,-4v8\" style=\"vector-effect: none; stroke-width: 2px; stroke: rgb(255, 161, 90); stroke-opacity: 1;\"/></g></g><g class=\"lines\"/><g class=\"points\"><path class=\"point\" transform=\"translate(32.48,323.41)\" d=\"M3,0A3,3 0 1,1 0,-3A3,3 0 0,1 3,0Z\" style=\"opacity: 1; stroke-width: 0px; fill: rgb(255, 161, 90); fill-opacity: 1;\"/><path class=\"point\" transform=\"translate(35.83,273.96)\" d=\"M3,0A3,3 0 1,1 0,-3A3,3 0 0,1 3,0Z\" style=\"opacity: 1; stroke-width: 0px; fill: rgb(255, 161, 90); fill-opacity: 1;\"/><path class=\"point\" transform=\"translate(40.24,224.51)\" d=\"M3,0A3,3 0 1,1 0,-3A3,3 0 0,1 3,0Z\" style=\"opacity: 1; stroke-width: 0px; fill: rgb(255, 161, 90); fill-opacity: 1;\"/><path class=\"point\" transform=\"translate(64.03,175.05)\" d=\"M3,0A3,3 0 1,1 0,-3A3,3 0 0,1 3,0Z\" style=\"opacity: 1; stroke-width: 0px; fill: rgb(255, 161, 90); fill-opacity: 1;\"/><path class=\"point\" transform=\"translate(209.84,125.6)\" d=\"M3,0A3,3 0 1,1 0,-3A3,3 0 0,1 3,0Z\" style=\"opacity: 1; stroke-width: 0px; fill: rgb(255, 161, 90); fill-opacity: 1;\"/><path class=\"point\" transform=\"translate(266.06,76.15)\" d=\"M3,0A3,3 0 1,1 0,-3A3,3 0 0,1 3,0Z\" style=\"opacity: 1; stroke-width: 0px; fill: rgb(255, 161, 90); fill-opacity: 1;\"/><path class=\"point\" transform=\"translate(444.31,26.7)\" d=\"M3,0A3,3 0 1,1 0,-3A3,3 0 0,1 3,0Z\" style=\"opacity: 1; stroke-width: 0px; fill: rgb(255, 161, 90); fill-opacity: 1;\"/></g><g class=\"text\"/></g><g class=\"trace scatter trace2f10fc\" style=\"stroke-miterlimit: 2; opacity: 0.7;\"><g class=\"fills\"/><g class=\"errorbars\"><g class=\"errorbar\"><path class=\"xerror\" d=\"M36.57,314.47v8m0,-4H28.39m0,-4v8\" style=\"vector-effect: none; stroke-width: 2px; stroke: rgb(25, 211, 243); stroke-opacity: 1;\"/></g><g class=\"errorbar\"><path class=\"xerror\" d=\"M40.17,265.02v8m0,-4H31.49m0,-4v8\" style=\"vector-effect: none; stroke-width: 2px; stroke: rgb(25, 211, 243); stroke-opacity: 1;\"/></g><g class=\"errorbar\"><path class=\"xerror\" d=\"M44.73,215.56v8m0,-4H35.75m0,-4v8\" style=\"vector-effect: none; stroke-width: 2px; stroke: rgb(25, 211, 243); stroke-opacity: 1;\"/></g><g class=\"errorbar\"><path class=\"xerror\" d=\"M71.9,166.11v8m0,-4H56.17m0,-4v8\" style=\"vector-effect: none; stroke-width: 2px; stroke: rgb(25, 211, 243); stroke-opacity: 1;\"/></g><g class=\"errorbar\"><path class=\"xerror\" d=\"M220.7,116.66v8m0,-4H198.99m0,-4v8\" style=\"vector-effect: none; stroke-width: 2px; stroke: rgb(25, 211, 243); stroke-opacity: 1;\"/></g><g class=\"errorbar\"><path class=\"xerror\" d=\"M276.41,67.2v8m0,-4H255.71m0,-4v8\" style=\"vector-effect: none; stroke-width: 2px; stroke: rgb(25, 211, 243); stroke-opacity: 1;\"/></g><g class=\"errorbar\"><path class=\"xerror\" d=\"M454.03,17.75v8m0,-4H434.59m0,-4v8\" style=\"vector-effect: none; stroke-width: 2px; stroke: rgb(25, 211, 243); stroke-opacity: 1;\"/></g></g><g class=\"lines\"/><g class=\"points\"><path class=\"point\" transform=\"translate(32.48,318.47)\" d=\"M3,0A3,3 0 1,1 0,-3A3,3 0 0,1 3,0Z\" style=\"opacity: 1; stroke-width: 0px; fill: rgb(25, 211, 243); fill-opacity: 1;\"/><path class=\"point\" transform=\"translate(35.83,269.02)\" d=\"M3,0A3,3 0 1,1 0,-3A3,3 0 0,1 3,0Z\" style=\"opacity: 1; stroke-width: 0px; fill: rgb(25, 211, 243); fill-opacity: 1;\"/><path class=\"point\" transform=\"translate(40.24,219.56)\" d=\"M3,0A3,3 0 1,1 0,-3A3,3 0 0,1 3,0Z\" style=\"opacity: 1; stroke-width: 0px; fill: rgb(25, 211, 243); fill-opacity: 1;\"/><path class=\"point\" transform=\"translate(64.03,170.11)\" d=\"M3,0A3,3 0 1,1 0,-3A3,3 0 0,1 3,0Z\" style=\"opacity: 1; stroke-width: 0px; fill: rgb(25, 211, 243); fill-opacity: 1;\"/><path class=\"point\" transform=\"translate(209.84,120.66)\" d=\"M3,0A3,3 0 1,1 0,-3A3,3 0 0,1 3,0Z\" style=\"opacity: 1; stroke-width: 0px; fill: rgb(25, 211, 243); fill-opacity: 1;\"/><path class=\"point\" transform=\"translate(266.06,71.2)\" d=\"M3,0A3,3 0 1,1 0,-3A3,3 0 0,1 3,0Z\" style=\"opacity: 1; stroke-width: 0px; fill: rgb(25, 211, 243); fill-opacity: 1;\"/><path class=\"point\" transform=\"translate(444.31,21.75)\" d=\"M3,0A3,3 0 1,1 0,-3A3,3 0 0,1 3,0Z\" style=\"opacity: 1; stroke-width: 0px; fill: rgb(25, 211, 243); fill-opacity: 1;\"/></g><g class=\"text\"/></g></g></g></g><path class=\"xlines-above crisp\" d=\"M0,0\" style=\"fill: none;\"/><path class=\"ylines-above crisp\" d=\"M0,0\" style=\"fill: none;\"/><g class=\"overlines-above\"/><g class=\"xaxislayer-above\"><g class=\"xtick\"><text text-anchor=\"middle\" x=\"0\" y=\"433\" transform=\"translate(104.22,0)\" style=\"font-family: 'Open Sans', verdana, arial, sans-serif; font-size: 12px; fill: rgb(42, 63, 95); fill-opacity: 1; white-space: pre; opacity: 1;\">0</text></g><g class=\"xtick\"><text text-anchor=\"middle\" x=\"0\" y=\"433\" style=\"font-family: 'Open Sans', verdana, arial, sans-serif; font-size: 12px; fill: rgb(42, 63, 95); fill-opacity: 1; white-space: pre; opacity: 1;\" transform=\"translate(199,0)\">0.1</text></g><g class=\"xtick\"><text text-anchor=\"middle\" x=\"0\" y=\"433\" style=\"font-family: 'Open Sans', verdana, arial, sans-serif; font-size: 12px; fill: rgb(42, 63, 95); fill-opacity: 1; white-space: pre; opacity: 1;\" transform=\"translate(293.78,0)\">0.2</text></g><g class=\"xtick\"><text text-anchor=\"middle\" x=\"0\" y=\"433\" style=\"font-family: 'Open Sans', verdana, arial, sans-serif; font-size: 12px; fill: rgb(42, 63, 95); fill-opacity: 1; white-space: pre; opacity: 1;\" transform=\"translate(388.55,0)\">0.3</text></g><g class=\"xtick\"><text text-anchor=\"middle\" x=\"0\" y=\"433\" style=\"font-family: 'Open Sans', verdana, arial, sans-serif; font-size: 12px; fill: rgb(42, 63, 95); fill-opacity: 1; white-space: pre; opacity: 1;\" transform=\"translate(483.33,0)\">0.4</text></g></g><g class=\"yaxislayer-above\"><g class=\"ytick\"><text text-anchor=\"end\" x=\"79\" y=\"4.199999999999999\" transform=\"translate(0,385.89)\" style=\"font-family: 'Open Sans', verdana, arial, sans-serif; font-size: 12px; fill: rgb(42, 63, 95); fill-opacity: 1; white-space: pre; opacity: 1;\">0</text></g><g class=\"ytick\"><text text-anchor=\"end\" x=\"79\" y=\"4.199999999999999\" style=\"font-family: 'Open Sans', verdana, arial, sans-serif; font-size: 12px; fill: rgb(42, 63, 95); fill-opacity: 1; white-space: pre; opacity: 1;\" transform=\"translate(0,336.43)\">1</text></g><g class=\"ytick\"><text text-anchor=\"end\" x=\"79\" y=\"4.199999999999999\" style=\"font-family: 'Open Sans', verdana, arial, sans-serif; font-size: 12px; fill: rgb(42, 63, 95); fill-opacity: 1; white-space: pre; opacity: 1;\" transform=\"translate(0,286.98)\">2</text></g><g class=\"ytick\"><text text-anchor=\"end\" x=\"79\" y=\"4.199999999999999\" style=\"font-family: 'Open Sans', verdana, arial, sans-serif; font-size: 12px; fill: rgb(42, 63, 95); fill-opacity: 1; white-space: pre; opacity: 1;\" transform=\"translate(0,237.53)\">3</text></g><g class=\"ytick\"><text text-anchor=\"end\" x=\"79\" y=\"4.199999999999999\" style=\"font-family: 'Open Sans', verdana, arial, sans-serif; font-size: 12px; fill: rgb(42, 63, 95); fill-opacity: 1; white-space: pre; opacity: 1;\" transform=\"translate(0,188.07)\">4</text></g><g class=\"ytick\"><text text-anchor=\"end\" x=\"79\" y=\"4.199999999999999\" style=\"font-family: 'Open Sans', verdana, arial, sans-serif; font-size: 12px; fill: rgb(42, 63, 95); fill-opacity: 1; white-space: pre; opacity: 1;\" transform=\"translate(0,138.62)\">5</text></g><g class=\"ytick\"><text text-anchor=\"end\" x=\"79\" y=\"4.199999999999999\" style=\"font-family: 'Open Sans', verdana, arial, sans-serif; font-size: 12px; fill: rgb(42, 63, 95); fill-opacity: 1; white-space: pre; opacity: 1;\" transform=\"translate(0,89.17)\">6</text></g></g><g class=\"overaxes-above\"/></g></g><g class=\"polarlayer\"/><g class=\"smithlayer\"/><g class=\"ternarylayer\"/><g class=\"geolayer\"/><g class=\"funnelarealayer\"/><g class=\"pielayer\"/><g class=\"iciclelayer\"/><g class=\"treemaplayer\"/><g class=\"sunburstlayer\"/><g class=\"glimages\"/><defs id=\"topdefs-5370bf\"><g class=\"clips\"/><clipPath id=\"legend5370bf\"><rect width=\"116\" height=\"105\" x=\"0\" y=\"0\"/></clipPath></defs><g class=\"layer-above\"><g class=\"imagelayer\"/><g class=\"shapelayer\"/></g><g class=\"infolayer\"><g class=\"legend\" pointer-events=\"all\" transform=\"translate(571.64,60)\"><rect class=\"bg\" shape-rendering=\"crispEdges\" width=\"116\" height=\"105\" x=\"0\" y=\"0\" style=\"stroke: rgb(68, 68, 68); stroke-opacity: 1; fill: rgb(255, 255, 255); fill-opacity: 1; stroke-width: 0px;\"/><g class=\"scrollbox\" transform=\"\" clip-path=\"url(#legend5370bf)\"><g class=\"groups\"><g class=\"traces\" transform=\"translate(0,14.5)\" style=\"opacity: 1;\"><text class=\"legendtext\" text-anchor=\"start\" x=\"40\" y=\"4.680000000000001\" style=\"font-family: 'Open Sans', verdana, arial, sans-serif; font-size: 12px; fill: rgb(42, 63, 95); fill-opacity: 1; white-space: pre;\">priority</text><g class=\"layers\" style=\"opacity: 0.7;\"><g class=\"legendfill\"/><g class=\"legendlines\"/><g class=\"legendsymbols\"><g class=\"legendpoints\"><path class=\"scatterpts\" transform=\"translate(20,0)\" d=\"M3,0A3,3 0 1,1 0,-3A3,3 0 0,1 3,0Z\" style=\"opacity: 1; stroke-width: 0px; fill: rgb(239, 85, 59); fill-opacity: 1;\"/></g></g></g><rect class=\"legendtoggle\" x=\"0\" y=\"-9.5\" width=\"110.640625\" height=\"19\" style=\"fill: rgb(0, 0, 0); fill-opacity: 0;\"/></g><g class=\"traces\" transform=\"translate(0,33.5)\" style=\"opacity: 1;\"><text class=\"legendtext\" text-anchor=\"start\" x=\"40\" y=\"4.680000000000001\" style=\"font-family: 'Open Sans', verdana, arial, sans-serif; font-size: 12px; fill: rgb(42, 63, 95); fill-opacity: 1; white-space: pre;\">betamax</text><g class=\"layers\" style=\"opacity: 0.7;\"><g class=\"legendfill\"/><g class=\"legendlines\"/><g class=\"legendsymbols\"><g class=\"legendpoints\"><path class=\"scatterpts\" transform=\"translate(20,0)\" d=\"M3,0A3,3 0 1,1 0,-3A3,3 0 0,1 3,0Z\" style=\"opacity: 1; stroke-width: 0px; fill: rgb(0, 204, 150); fill-opacity: 1;\"/></g></g></g><rect class=\"legendtoggle\" x=\"0\" y=\"-9.5\" width=\"110.640625\" height=\"19\" style=\"fill: rgb(0, 0, 0); fill-opacity: 0;\"/></g><g class=\"traces\" transform=\"translate(0,52.5)\" style=\"opacity: 1;\"><text class=\"legendtext\" text-anchor=\"start\" x=\"40\" y=\"4.680000000000001\" style=\"font-family: 'Open Sans', verdana, arial, sans-serif; font-size: 12px; fill: rgb(42, 63, 95); fill-opacity: 1; white-space: pre;\">gumbelmax</text><g class=\"layers\" style=\"opacity: 0.7;\"><g class=\"legendfill\"/><g class=\"legendlines\"/><g class=\"legendsymbols\"><g class=\"legendpoints\"><path class=\"scatterpts\" transform=\"translate(20,0)\" d=\"M3,0A3,3 0 1,1 0,-3A3,3 0 0,1 3,0Z\" style=\"opacity: 1; stroke-width: 0px; fill: rgb(171, 99, 250); fill-opacity: 1;\"/></g></g></g><rect class=\"legendtoggle\" x=\"0\" y=\"-9.5\" width=\"110.640625\" height=\"19\" style=\"fill: rgb(0, 0, 0); fill-opacity: 0;\"/></g><g class=\"traces\" transform=\"translate(0,71.5)\" style=\"opacity: 1;\"><text class=\"legendtext\" text-anchor=\"start\" x=\"40\" y=\"4.680000000000001\" style=\"font-family: 'Open Sans', verdana, arial, sans-serif; font-size: 12px; fill: rgb(42, 63, 95); fill-opacity: 1; white-space: pre;\">gumbelmin</text><g class=\"layers\" style=\"opacity: 0.7;\"><g class=\"legendfill\"/><g class=\"legendlines\"/><g class=\"legendsymbols\"><g class=\"legendpoints\"><path class=\"scatterpts\" transform=\"translate(20,0)\" d=\"M3,0A3,3 0 1,1 0,-3A3,3 0 0,1 3,0Z\" style=\"opacity: 1; stroke-width: 0px; fill: rgb(255, 161, 90); fill-opacity: 1;\"/></g></g></g><rect class=\"legendtoggle\" x=\"0\" y=\"-9.5\" width=\"110.640625\" height=\"19\" style=\"fill: rgb(0, 0, 0); fill-opacity: 0;\"/></g><g class=\"traces\" transform=\"translate(0,90.5)\" style=\"opacity: 1;\"><text class=\"legendtext\" text-anchor=\"start\" x=\"40\" y=\"4.680000000000001\" style=\"font-family: 'Open Sans', verdana, arial, sans-serif; font-size: 12px; fill: rgb(42, 63, 95); fill-opacity: 1; white-space: pre;\">expmin</text><g class=\"layers\" style=\"opacity: 0.7;\"><g class=\"legendfill\"/><g class=\"legendlines\"/><g class=\"legendsymbols\"><g class=\"legendpoints\"><path class=\"scatterpts\" transform=\"translate(20,0)\" d=\"M3,0A3,3 0 1,1 0,-3A3,3 0 0,1 3,0Z\" style=\"opacity: 1; stroke-width: 0px; fill: rgb(25, 211, 243); fill-opacity: 1;\"/></g></g></g><rect class=\"legendtoggle\" x=\"0\" y=\"-9.5\" width=\"110.640625\" height=\"19\" style=\"fill: rgb(0, 0, 0); fill-opacity: 0;\"/></g></g></g><rect class=\"scrollbar\" rx=\"20\" ry=\"3\" width=\"0\" height=\"0\" x=\"0\" y=\"0\" style=\"fill: rgb(128, 139, 164); fill-opacity: 1;\"/></g><g class=\"g-gtitle\"/><g class=\"g-xtitle\"><text class=\"xtitle\" x=\"321\" y=\"459.8\" text-anchor=\"middle\" style=\"opacity: 1; font-family: 'Open Sans', verdana, arial, sans-serif; font-size: 14px; fill: rgb(42, 63, 95); fill-opacity: 1; white-space: pre;\">Value</text></g><g class=\"g-ytitle\"><text class=\"ytitle\" transform=\"rotate(-90,51.959375,240)\" x=\"51.959375\" y=\"240\" text-anchor=\"middle\" style=\"opacity: 1; font-family: 'Open Sans', verdana, arial, sans-serif; font-size: 14px; fill: rgb(42, 63, 95); fill-opacity: 1; white-space: pre;\">index</text></g></g></svg>"
            ]
          },
          "metadata": {},
          "output_type": "display_data"
        }
      ],
      "source": [
        "np.random.seed()\n",
        "dim, sparse_m = 7, 3\n",
        "w = np.random.dirichlet(np.ones(dim))\n",
        "w.sort()\n",
        "\n",
        "# initialize a priority sampler\n",
        "sims = []\n",
        "seed = np.random.randint(1, 10000)\n",
        "for P in (\n",
        "    PrioritySampler(noiser=\"priority\", use_scipy=False),\n",
        "    PrioritySampler(noiser=\"betamax\", use_scipy=False),\n",
        "    PrioritySampler(noiser=\"gumbelmax\", use_scipy=False),\n",
        "    PrioritySampler(noiser=\"gumbelmin\", use_scipy=False),\n",
        "    PrioritySampler(noiser=\"expmin\", use_scipy=False),\n",
        "):\n",
        "    np.random.seed(seed)\n",
        "    samples = np.array([P.weighted_sample(w, sparse_m) for _ in range(500)])\n",
        "    sims.append({\n",
        "        \"name\": P.noiser, \n",
        "        \"stats\": scipy.stats.describe(samples, axis=0)\n",
        "    })\n",
        "\n",
        "df = pd.DataFrame({\"Actual\": w}).reset_index()\n",
        "fig = px.scatter(\n",
        "    df, x=\"Actual\", y=\"index\", labels={\"Actual\": \"Value\"},\n",
        ").update_traces(marker=dict(symbol=\"diamond\", size=15, opacity=0.4))\n",
        "for i, s in enumerate(sims):\n",
        "    stats = s['stats']\n",
        "    fig.add_scatter(\n",
        "        x=stats.mean, y=df.index -0.05*len(sims) + 0.1 * i, opacity=0.7, \n",
        "        error_x=dict(type=\"data\", array=1.96 * np.sqrt(stats.variance / stats.nobs)),\n",
        "        name=f\"{s['name']}\", mode=\"markers\",\n",
        "    )\n",
        "fig.update_layout(plot_bgcolor=\"snow\").show()"
      ]
    },
    {
      "cell_type": "code",
      "execution_count": 4,
      "metadata": {},
      "outputs": [],
      "source": [
        "if 0:\n",
        "    rng = np.random.default_rng()\n",
        "    bootstrap_results = scipy.stats.bootstrap((samples,), np.mean, confidence_level=0.95, random_state=rng)\n",
        "    df['m'] = np.mean(bootstrap_results.bootstrap_distribution, axis=1)\n",
        "    df['CIl'] = bootstrap_results.confidence_interval.low\n",
        "    df['CIh'] = bootstrap_results.confidence_interval.high\n",
        "    df['se'] = bootstrap_results.standard_error\n",
        "    display(df)\n",
        "    fig.add_scatter(\n",
        "        x=df.m,\n",
        "        y=df.index,\n",
        "        error_x=dict(\n",
        "            array=df.CIh - df.m,\n",
        "            arrayminus=df.m - df.CIl\n",
        "        ),\n",
        "        mode='markers',\n",
        "        showlegend=False\n",
        "    )\n",
        "    fig.show()"
      ]
    },
    {
      "cell_type": "markdown",
      "metadata": {},
      "source": [
        "The (right-skewed) \"Gumbel-max trick\" (or equivalently, the left-skewed Gumbel-min trick) is the same idea as the \"exp-min trick\", which is the same idea again as the idea in \"Priority sampling\" (which could be called the \"Uniform-min trick\" if we were consistent). These are all the same algorithm, that could be called adaptive threshold sampling since they look like threshold sampling, but involve setting the threshhold adaptively, to equal the k+1 st perturbed weight [@duffield.n:2007; @daliri.m:2024].\n",
        "\n",
        "Both you perturb your probabilities with random noise, then sort them by size, record the $(k+1)^\\text{th}$ value as a threshold, and return a sample consisting of the $k$ items whose weights surpassed that threshold, and weight them by dividing the weight by an inclusion probability.\n",
        "\n",
        "There are only two steps in the algorithm where the differences are, they are (1) where we sample a perturbed version (call it $z_i$) of each weight ($w_i$), and (2) where we calculate the inclusion probability $q_i(\\tau)$ to make the importance weight for the sample, given the threshold $\\tau$. That is the steps that look like this, for each $i$:\n",
        "\n",
        "$$\n",
        "\\begin{aligned}\n",
        "z_i &\\sim \\mathrm{SomeDistribution}(w_i)\\\\\n",
        "\\tau &\\leftarrow \\text{top/bottom-(k+1)}^\\text{th}\\text{ value in }\\mathbf{z}\\\\\n",
        "S &\\leftarrow \\{i : z_i \\text{ is past threshold } \\tau\\}\\\\\n",
        "q_i(\\tau) &\\leftarrow \\Pr(z_i \\text{ passes threshold} \\mid \\text{threshold} = \\tau) \n",
        "\\end{aligned}\n",
        "$$\n",
        "\n",
        "For each case (dropping the ${}_i$ subscripts):\n",
        "\n",
        "**Priority sampling** (or, I guess \"Uniform-min\")\n",
        "\n",
        "$$\n",
        "\\begin{aligned}\n",
        "z &\\sim\\mathrm{Uniform}(\\mathrm{low}=0,\\mathrm{high}=\\frac1w)\\\\\n",
        "q(\\tau)&\\leftarrow \\Pr(z < \\tau) = \\mathrm{CDF}_{z}(\\tau)\\\\\n",
        "         &=\\mathrm{min}(1, w\\cdot \\tau)\n",
        "\\end{aligned}\n",
        "$$\n",
        "\n",
        "**Exp-min**\n",
        "\n",
        "$$\n",
        "\\begin{aligned}\n",
        "z &\\sim\\mathrm{Exponential}(\\mathrm{scale}=\\frac1w)\\\\\n",
        "q(\\tau)&\\leftarrow \\Pr(z < \\tau) = \\mathrm{CDF}_{z}(\\tau)\\\\\n",
        "         &=1-e^{-w\\cdot \\tau} = -\\mathrm{expm1}(-w\\cdot \\tau) \n",
        "\\end{aligned}\n",
        "$$\n",
        "\n",
        "**Gumbel-min**\n",
        "\n",
        "$$\n",
        "\\begin{aligned}\n",
        "\\big(z &\\sim -1 \\cdot\\mathrm{Gumbel}_r(\\mathrm{loc}=\\log(w),\\mathrm{scale}=1)\\big)\\\\\n",
        "\\implies z &\\sim \\mathrm{Gumbel}_{l}(\\mathrm{loc}=\\log(\\frac1w),\\mathrm{scale}=1)\\\\\n",
        "q(\\tau)&\\leftarrow \\Pr(z < \\tau) = \\mathrm{CDF}_{z}(\\tau)\\\\\n",
        "         &=1 - e^{-e^{\\log(w) + \\tau}}= -\\mathrm{expm1}(-w\\cdot e^\\tau) \n",
        "\\end{aligned}\n",
        "$$\n",
        "\n",
        "(**Gumbel-max**)\n",
        "\n",
        "$$\n",
        "\\begin{aligned}\n",
        "z &\\sim \\mathrm{Gumbel}_r(\\mathrm{loc}=\\log(w),\\mathrm{scale}=1)\\\\\n",
        "q(\\tau)&\\leftarrow \\Pr(z > \\tau) = 1-\\mathrm{CDF}_{z}(\\tau) = \\mathrm{sf}_{z}(\\tau)\\\\\n",
        "         &=1-e^{-e^{\\log(w)-t}} = -\\mathrm{expm1}(-w\\cdot e^{-\\tau}) \n",
        "\\end{aligned}\n",
        "$$\n",
        "\n",
        "Coding a nice common version that makes the similarities obvious, you run into one annoying thing: the Gumbel max trick uses the *top* $k$ (largest values), while the other two use *bottom* $k$ (smallest values). This means that while $q$ is the CDF in the first two cases, it is the survival function (1-CDF) in the Gumbel-max case.\n",
        "\n",
        "Note, to make them all fit in the same pattern, we can just change the Gumbel-max to Gumbel-min. Use *negative* of our Gumbel-perturbed weights (meaning we'll have our threshold be the ${k+1}^\\text{th}$ from lowest value). And then that means our $z$'s are distributed according to a so-called 'right-skewed' Gumbel distribution rather than the standard left-skewed one. \n",
        "\n",
        "Here's a plot of the difference. It would be easy to make the mistake of just using the same CDF, but you'd get slightly biased weights.\n",
        "\n",
        "Here's a plot of the Gumbel left- vs right-skewed."
      ]
    },
    {
      "cell_type": "code",
      "execution_count": 5,
      "metadata": {},
      "outputs": [
        {
          "data": {
            "image/svg+xml": [
              "<svg class=\"main-svg\" xmlns=\"http://www.w3.org/2000/svg\" xmlns:xlink=\"http://www.w3.org/1999/xlink\" width=\"700\" height=\"500\" style=\"\" viewBox=\"0 0 700 500\"><rect x=\"0\" y=\"0\" width=\"700\" height=\"500\" style=\"fill: rgb(0, 0, 0); fill-opacity: 0;\"/><defs id=\"defs-5cdaaf\"><g class=\"clips\"><clipPath id=\"clip5cdaafxyplot\" class=\"plotclip\"><rect width=\"442\" height=\"320\"/></clipPath><clipPath class=\"axesclip\" id=\"clip5cdaafx\"><rect x=\"80\" y=\"0\" width=\"442\" height=\"500\"/></clipPath><clipPath class=\"axesclip\" id=\"clip5cdaafy\"><rect x=\"0\" y=\"100\" width=\"700\" height=\"320\"/></clipPath><clipPath class=\"axesclip\" id=\"clip5cdaafxy\"><rect x=\"80\" y=\"100\" width=\"442\" height=\"320\"/></clipPath></g><g class=\"gradients\"/><g class=\"patterns\"/></defs><g class=\"bglayer\"><rect class=\"bg\" x=\"80\" y=\"100\" width=\"442\" height=\"320\" style=\"fill: rgb(0, 0, 0); fill-opacity: 0; stroke-width: 0;\"/></g><g class=\"layer-below\"><g class=\"imagelayer\"/><g class=\"shapelayer\"/></g><g class=\"cartesianlayer\"><g class=\"subplot xy\"><g class=\"layer-subplot\"><g class=\"shapelayer\"/><g class=\"imagelayer\"/></g><g class=\"minor-gridlayer\"><g class=\"x\"/><g class=\"y\"/></g><g class=\"gridlayer\"><g class=\"x\"><path class=\"xgrid crisp\" transform=\"translate(124.2,0)\" d=\"M0,100v320\" style=\"stroke: rgb(255, 255, 255); stroke-opacity: 1; stroke-width: 1px;\"/><path class=\"xgrid crisp\" transform=\"translate(212.6,0)\" d=\"M0,100v320\" style=\"stroke: rgb(255, 255, 255); stroke-opacity: 1; stroke-width: 1px;\"/><path class=\"xgrid crisp\" transform=\"translate(389.4,0)\" d=\"M0,100v320\" style=\"stroke: rgb(255, 255, 255); stroke-opacity: 1; stroke-width: 1px;\"/><path class=\"xgrid crisp\" transform=\"translate(477.8,0)\" d=\"M0,100v320\" style=\"stroke: rgb(255, 255, 255); stroke-opacity: 1; stroke-width: 1px;\"/></g><g class=\"y\"><path class=\"ygrid crisp\" transform=\"translate(0,346.4)\" d=\"M80,0h442\" style=\"stroke: rgb(255, 255, 255); stroke-opacity: 1; stroke-width: 1px;\"/><path class=\"ygrid crisp\" transform=\"translate(0,288.8)\" d=\"M80,0h442\" style=\"stroke: rgb(255, 255, 255); stroke-opacity: 1; stroke-width: 1px;\"/><path class=\"ygrid crisp\" transform=\"translate(0,231.2)\" d=\"M80,0h442\" style=\"stroke: rgb(255, 255, 255); stroke-opacity: 1; stroke-width: 1px;\"/><path class=\"ygrid crisp\" transform=\"translate(0,173.6)\" d=\"M80,0h442\" style=\"stroke: rgb(255, 255, 255); stroke-opacity: 1; stroke-width: 1px;\"/><path class=\"ygrid crisp\" transform=\"translate(0,116)\" d=\"M80,0h442\" style=\"stroke: rgb(255, 255, 255); stroke-opacity: 1; stroke-width: 1px;\"/></g></g><g class=\"zerolinelayer\"><path class=\"xzl zl crisp\" transform=\"translate(301,0)\" d=\"M0,100v320\" style=\"stroke: rgb(255, 255, 255); stroke-opacity: 1; stroke-width: 2px;\"/><path class=\"yzl zl crisp\" transform=\"translate(0,404)\" d=\"M80,0h442\" style=\"stroke: rgb(255, 255, 255); stroke-opacity: 1; stroke-width: 2px;\"/></g><g class=\"layer-between\"><g class=\"shapelayer\"/><g class=\"imagelayer\"/></g><path class=\"xlines-below\"/><path class=\"ylines-below\"/><g class=\"overlines-below\"/><g class=\"xaxislayer-below\"/><g class=\"yaxislayer-below\"/><g class=\"overaxes-below\"/><g class=\"overplot\"><g class=\"xy\" transform=\"translate(80,100)\" clip-path=\"url(#clip5cdaafxyplot)\"><g class=\"scatterlayer mlayer\"><g class=\"trace scatter trace86ed36\" style=\"stroke-miterlimit: 2; opacity: 1;\"><g class=\"fills\"/><g class=\"errorbars\"/><g class=\"lines\"><path class=\"js-line\" d=\"M0,304L128.82,303.26L131.05,302.95L137.71,301.38L139.93,300.55L146.59,296.88L148.81,295.19L155.48,288.48L157.7,285.69L164.36,275.71L166.58,271.9L177.69,250.55L179.91,246.08L191.02,224.91L193.24,221.15L199.9,211.38L202.12,208.68L208.78,202.41L211.01,200.94L215.45,198.92L217.67,198.36L222.11,198.08L224.33,198.34L230.99,200.54L233.22,201.69L239.88,206.15L242.1,207.92L253.21,218.22L255.43,220.47L286.52,251.88L288.74,253.88L302.07,264.79L304.29,266.41L317.62,275.08L319.84,276.34L333.17,282.96L335.39,283.92L350.93,289.55L353.16,290.23L370.92,294.63L373.15,295.08L395.36,298.53L397.58,298.8L424.23,301.13L426.45,301.27L442,302.07\" style=\"vector-effect: none; fill: none; stroke: rgb(99, 110, 250); stroke-opacity: 1; stroke-width: 2px; opacity: 1;\"/></g><g class=\"points\"/><g class=\"text\"/></g><g class=\"trace scatter trace2c4b60\" style=\"stroke-miterlimit: 2; opacity: 1;\"><g class=\"fills\"/><g class=\"errorbars\"/><g class=\"lines\"><path class=\"js-line\" d=\"M0,304L142.15,303.25L144.37,303L153.26,301.19L155.48,300.48L162.14,297.47L164.36,296.14L171.03,291L173.25,288.86L179.91,281.14L182.13,278.12L191.02,263.86L193.24,259.8L204.34,236.96L206.56,232L226.55,184.77L228.77,179.51L244.32,144.35L246.54,139.67L259.87,113.83L262.09,109.92L273.2,92.13L275.42,88.92L286.52,74.51L288.74,71.94L299.85,60.53L302.07,58.52L313.18,49.65L315.4,48.1L326.5,41.29L328.72,40.1L342.05,34.03L344.27,33.17L359.82,28.19L362.04,27.61L379.81,23.82L382.03,23.44L404.24,20.52L406.46,20.3L435.34,18.25L437.56,18.14L442,17.93\" style=\"vector-effect: none; fill: none; stroke: rgb(99, 110, 250); stroke-opacity: 1; stroke-dasharray: 3px, 3px; stroke-width: 2px; opacity: 1;\"/></g><g class=\"points\"/><g class=\"text\"/></g><g class=\"trace scatter trace3ae5ab\" style=\"stroke-miterlimit: 2; opacity: 1;\"><g class=\"fills\"/><g class=\"errorbars\"/><g class=\"lines\"><path class=\"js-line\" d=\"M0,302.07L35.54,299.73L37.76,299.51L62.19,296.29L64.41,295.9L82.18,292.07L84.4,291.48L99.95,286.55L102.17,285.71L115.5,279.85L117.72,278.73L131.05,270.98L133.27,269.51L146.59,259.57L148.81,257.73L162.14,245.6L164.36,243.42L199.9,207.92L202.12,206.15L208.78,201.69L211.01,200.54L217.67,198.34L219.89,198.08L224.33,198.36L226.55,198.92L230.99,200.94L233.22,202.41L239.88,208.68L242.1,211.38L248.76,221.15L250.98,224.91L262.09,246.08L264.31,250.55L277.64,275.71L279.86,279.29L286.52,288.48L288.74,291L295.41,296.88L297.63,298.33L304.29,301.38L306.51,302.03L315.4,303.49L317.62,303.65L337.61,304L339.83,304L442,304\" style=\"vector-effect: none; fill: none; stroke: rgb(239, 85, 59); stroke-opacity: 1; stroke-width: 2px; opacity: 1;\"/></g><g class=\"points\"/><g class=\"text\"/></g><g class=\"trace scatter trace09cc32\" style=\"stroke-miterlimit: 2; opacity: 1;\"><g class=\"fills\"/><g class=\"errorbars\"/><g class=\"lines\"><path class=\"js-line\" d=\"M0,302.07L33.32,299.91L35.54,299.7L59.97,296.56L62.19,296.18L79.96,292.39L82.18,291.81L97.73,286.83L99.95,285.97L113.28,279.9L115.5,278.71L126.6,271.9L128.82,270.35L139.93,261.48L142.15,259.47L153.26,248.06L155.48,245.49L166.58,231.08L168.8,227.87L179.91,210.08L182.13,206.17L193.24,184.91L195.46,180.33L208.78,150.89L211.01,145.72L242.1,73.46L244.32,68.88L253.21,52.26L255.43,48.59L264.31,36.06L266.53,33.49L273.2,27.09L275.42,25.37L282.08,21.37L284.3,20.37L293.19,17.72L295.41,17.32L306.51,16.28L308.73,16.2L342.05,16L344.27,16L442,16\" style=\"vector-effect: none; fill: none; stroke: rgb(239, 85, 59); stroke-opacity: 1; stroke-dasharray: 3px, 3px; stroke-width: 2px; opacity: 1;\"/></g><g class=\"points\"/><g class=\"text\"/></g></g></g></g><path class=\"xlines-above crisp\" d=\"M0,0\" style=\"fill: none;\"/><path class=\"ylines-above crisp\" d=\"M0,0\" style=\"fill: none;\"/><g class=\"overlines-above\"/><g class=\"xaxislayer-above\"><g class=\"xtick\"><text text-anchor=\"middle\" x=\"0\" y=\"433\" transform=\"translate(124.2,0)\" style=\"font-family: 'Open Sans', verdana, arial, sans-serif; font-size: 12px; fill: rgb(42, 63, 95); fill-opacity: 1; white-space: pre; opacity: 1;\">−4</text></g><g class=\"xtick\"><text text-anchor=\"middle\" x=\"0\" y=\"433\" style=\"font-family: 'Open Sans', verdana, arial, sans-serif; font-size: 12px; fill: rgb(42, 63, 95); fill-opacity: 1; white-space: pre; opacity: 1;\" transform=\"translate(212.6,0)\">−2</text></g><g class=\"xtick\"><text text-anchor=\"middle\" x=\"0\" y=\"433\" style=\"font-family: 'Open Sans', verdana, arial, sans-serif; font-size: 12px; fill: rgb(42, 63, 95); fill-opacity: 1; white-space: pre; opacity: 1;\" transform=\"translate(301,0)\">0</text></g><g class=\"xtick\"><text text-anchor=\"middle\" x=\"0\" y=\"433\" style=\"font-family: 'Open Sans', verdana, arial, sans-serif; font-size: 12px; fill: rgb(42, 63, 95); fill-opacity: 1; white-space: pre; opacity: 1;\" transform=\"translate(389.4,0)\">2</text></g><g class=\"xtick\"><text text-anchor=\"middle\" x=\"0\" y=\"433\" style=\"font-family: 'Open Sans', verdana, arial, sans-serif; font-size: 12px; fill: rgb(42, 63, 95); fill-opacity: 1; white-space: pre; opacity: 1;\" transform=\"translate(477.8,0)\">4</text></g></g><g class=\"yaxislayer-above\"><g class=\"ytick\"><text text-anchor=\"end\" x=\"79\" y=\"4.199999999999999\" transform=\"translate(0,404)\" style=\"font-family: 'Open Sans', verdana, arial, sans-serif; font-size: 12px; fill: rgb(42, 63, 95); fill-opacity: 1; white-space: pre; opacity: 1;\">0</text></g><g class=\"ytick\"><text text-anchor=\"end\" x=\"79\" y=\"4.199999999999999\" style=\"font-family: 'Open Sans', verdana, arial, sans-serif; font-size: 12px; fill: rgb(42, 63, 95); fill-opacity: 1; white-space: pre; opacity: 1;\" transform=\"translate(0,346.4)\">0.2</text></g><g class=\"ytick\"><text text-anchor=\"end\" x=\"79\" y=\"4.199999999999999\" style=\"font-family: 'Open Sans', verdana, arial, sans-serif; font-size: 12px; fill: rgb(42, 63, 95); fill-opacity: 1; white-space: pre; opacity: 1;\" transform=\"translate(0,288.8)\">0.4</text></g><g class=\"ytick\"><text text-anchor=\"end\" x=\"79\" y=\"4.199999999999999\" style=\"font-family: 'Open Sans', verdana, arial, sans-serif; font-size: 12px; fill: rgb(42, 63, 95); fill-opacity: 1; white-space: pre; opacity: 1;\" transform=\"translate(0,231.2)\">0.6</text></g><g class=\"ytick\"><text text-anchor=\"end\" x=\"79\" y=\"4.199999999999999\" style=\"font-family: 'Open Sans', verdana, arial, sans-serif; font-size: 12px; fill: rgb(42, 63, 95); fill-opacity: 1; white-space: pre; opacity: 1;\" transform=\"translate(0,173.6)\">0.8</text></g><g class=\"ytick\"><text text-anchor=\"end\" x=\"79\" y=\"4.199999999999999\" style=\"font-family: 'Open Sans', verdana, arial, sans-serif; font-size: 12px; fill: rgb(42, 63, 95); fill-opacity: 1; white-space: pre; opacity: 1;\" transform=\"translate(0,116)\">1</text></g></g><g class=\"overaxes-above\"/></g></g><g class=\"polarlayer\"/><g class=\"smithlayer\"/><g class=\"ternarylayer\"/><g class=\"geolayer\"/><g class=\"funnelarealayer\"/><g class=\"pielayer\"/><g class=\"iciclelayer\"/><g class=\"treemaplayer\"/><g class=\"sunburstlayer\"/><g class=\"glimages\"/><defs id=\"topdefs-5cdaaf\"><g class=\"clips\"/><clipPath id=\"legend5cdaaf\"><rect width=\"157\" height=\"86\" x=\"0\" y=\"0\"/></clipPath></defs><g class=\"layer-above\"><g class=\"imagelayer\"/><g class=\"shapelayer\"/></g><g class=\"infolayer\"><g class=\"legend\" pointer-events=\"all\" transform=\"translate(530.84,100)\"><rect class=\"bg\" shape-rendering=\"crispEdges\" style=\"stroke: rgb(68, 68, 68); stroke-opacity: 1; fill: rgb(0, 0, 0); fill-opacity: 0; stroke-width: 0px;\" width=\"157\" height=\"86\" x=\"0\" y=\"0\"/><g class=\"scrollbox\" transform=\"\" clip-path=\"url(#legend5cdaaf)\"><g class=\"groups\" transform=\"\"><g class=\"traces\" transform=\"translate(0,14.5)\" style=\"opacity: 1;\"><text class=\"legendtext\" text-anchor=\"start\" x=\"40\" y=\"4.680000000000001\" style=\"font-family: 'Open Sans', verdana, arial, sans-serif; font-size: 12px; fill: rgb(42, 63, 95); fill-opacity: 1; white-space: pre;\">right-skewed, PDF</text><g class=\"layers\" style=\"opacity: 1;\"><g class=\"legendfill\"/><g class=\"legendlines\"><path class=\"js-line\" d=\"M5,0h30\" style=\"fill: none; stroke: rgb(99, 110, 250); stroke-opacity: 1; stroke-width: 2px;\"/></g><g class=\"legendsymbols\"><g class=\"legendpoints\"/></g></g><rect class=\"legendtoggle\" x=\"0\" y=\"-9.5\" width=\"151.71875\" height=\"19\" style=\"fill: rgb(0, 0, 0); fill-opacity: 0;\"/></g></g><g class=\"groups\" transform=\"\"><g class=\"traces\" transform=\"translate(0,33.5)\" style=\"opacity: 1;\"><text class=\"legendtext\" text-anchor=\"start\" x=\"40\" y=\"4.680000000000001\" style=\"font-family: 'Open Sans', verdana, arial, sans-serif; font-size: 12px; fill: rgb(42, 63, 95); fill-opacity: 1; white-space: pre;\">right-skewed, CDF</text><g class=\"layers\" style=\"opacity: 1;\"><g class=\"legendfill\"/><g class=\"legendlines\"><path class=\"js-line\" d=\"M5,0h30\" style=\"fill: none; stroke: rgb(99, 110, 250); stroke-opacity: 1; stroke-dasharray: 3px, 3px; stroke-width: 2px;\"/></g><g class=\"legendsymbols\"><g class=\"legendpoints\"/></g></g><rect class=\"legendtoggle\" x=\"0\" y=\"-9.5\" width=\"151.71875\" height=\"19\" style=\"fill: rgb(0, 0, 0); fill-opacity: 0;\"/></g></g><g class=\"groups\" transform=\"\"><g class=\"traces\" transform=\"translate(0,52.5)\" style=\"opacity: 1;\"><text class=\"legendtext\" text-anchor=\"start\" x=\"40\" y=\"4.680000000000001\" style=\"font-family: 'Open Sans', verdana, arial, sans-serif; font-size: 12px; fill: rgb(42, 63, 95); fill-opacity: 1; white-space: pre;\">left-skewed, PDF</text><g class=\"layers\" style=\"opacity: 1;\"><g class=\"legendfill\"/><g class=\"legendlines\"><path class=\"js-line\" d=\"M5,0h30\" style=\"fill: none; stroke: rgb(239, 85, 59); stroke-opacity: 1; stroke-width: 2px;\"/></g><g class=\"legendsymbols\"><g class=\"legendpoints\"/></g></g><rect class=\"legendtoggle\" x=\"0\" y=\"-9.5\" width=\"151.71875\" height=\"19\" style=\"fill: rgb(0, 0, 0); fill-opacity: 0;\"/></g></g><g class=\"groups\" transform=\"\"><g class=\"traces\" transform=\"translate(0,71.5)\" style=\"opacity: 1;\"><text class=\"legendtext\" text-anchor=\"start\" x=\"40\" y=\"4.680000000000001\" style=\"font-family: 'Open Sans', verdana, arial, sans-serif; font-size: 12px; fill: rgb(42, 63, 95); fill-opacity: 1; white-space: pre;\">left-skewed, CDF</text><g class=\"layers\" style=\"opacity: 1;\"><g class=\"legendfill\"/><g class=\"legendlines\"><path class=\"js-line\" d=\"M5,0h30\" style=\"fill: none; stroke: rgb(239, 85, 59); stroke-opacity: 1; stroke-dasharray: 3px, 3px; stroke-width: 2px;\"/></g><g class=\"legendsymbols\"><g class=\"legendpoints\"/></g></g><rect class=\"legendtoggle\" x=\"0\" y=\"-9.5\" width=\"151.71875\" height=\"19\" style=\"fill: rgb(0, 0, 0); fill-opacity: 0;\"/></g></g></g><rect class=\"scrollbar\" rx=\"20\" ry=\"3\" width=\"0\" height=\"0\" style=\"fill: rgb(128, 139, 164); fill-opacity: 1;\" x=\"0\" y=\"0\"/></g><g class=\"g-gtitle\"><text class=\"gtitle\" x=\"35\" y=\"50\" text-anchor=\"start\" dy=\"0em\" style=\"opacity: 1; font-family: 'Open Sans', verdana, arial, sans-serif; font-size: 17px; fill: rgb(42, 63, 95); fill-opacity: 1; white-space: pre;\">Gumbel Distributions (loc=0, scale=1)</text></g><g class=\"g-xtitle\"><text class=\"xtitle\" x=\"301\" y=\"459.8\" text-anchor=\"middle\" style=\"opacity: 1; font-family: 'Open Sans', verdana, arial, sans-serif; font-size: 14px; fill: rgb(42, 63, 95); fill-opacity: 1; white-space: pre;\">𝜏</text></g><g class=\"g-ytitle\"><text class=\"ytitle\" transform=\"rotate(-90,39.975,260)\" x=\"39.975\" y=\"260\" text-anchor=\"middle\" style=\"opacity: 1; font-family: 'Open Sans', verdana, arial, sans-serif; font-size: 14px; fill: rgb(42, 63, 95); fill-opacity: 1; white-space: pre;\">density or probability</text></g></g></svg>"
            ]
          },
          "metadata": {},
          "output_type": "display_data"
        }
      ],
      "source": [
        "# Plot PDFs and CDFs of Gumbel distributions\n",
        "import plotly.express as px\n",
        "import numpy as np\n",
        "\n",
        "def plot_gumbel_funcs(m=0):\n",
        "    x = np.linspace(-5, 5, 200)\n",
        "    # PDFs\n",
        "    pdf_right = np.exp(m - x - np.exp(m - x))\n",
        "    pdf_left = np.exp(-m + x - np.exp(-m + x))     \n",
        "    # CDFs\n",
        "    cdf_right = np.exp(-np.exp(m - x))\n",
        "    cdf_left = 1 - np.exp(-np.exp(-m + x))    \n",
        "\n",
        "    df = pd.DataFrame({\n",
        "        'x': np.concatenate([x, x, x, x]),\n",
        "        'y': np.concatenate([pdf_right, pdf_left, cdf_right, cdf_left]),\n",
        "        'type': ['PDF']*len(x) + ['PDF']*len(x) + ['CDF']*len(x) + ['CDF']*len(x),\n",
        "        'distribution': ['right-skewed']*len(x) + ['left-skewed']*len(x) + \n",
        "                       ['right-skewed']*len(x) + ['left-skewed']*len(x)\n",
        "    })\n",
        "\n",
        "    fig = px.line(df, x='x', y='y', color='distribution', line_dash='type',\n",
        "                  title=f'Gumbel Distributions (loc={m}, scale=1)')\n",
        "\n",
        "    fig.update_layout(\n",
        "        xaxis_title='𝜏',\n",
        "        yaxis_title='density or probability',\n",
        "        legend_title=None,\n",
        "        plot_bgcolor='rgba(0,0,0,0)',\n",
        "        paper_bgcolor='rgba(0,0,0,0)'\n",
        "    )\n",
        "\n",
        "    return fig\n",
        "\n",
        "# Create interactive plot with default m=0\n",
        "plot_gumbel_funcs(m=0)"
      ]
    },
    {
      "cell_type": "markdown",
      "metadata": {},
      "source": [
        "$$\n",
        "\\begin{aligned}\n",
        "\\mathrm{Gumbel}_r &\\mathrm{pdf}(\\text{loc}=m, \\text{scale}=1) = e^{m-x-e^{m-x}}\\\\\n",
        "\\mathrm{Gumbel}_r &\\mathrm{CDF}(\\text{loc}=m, \\text{scale}=1) = e^{-e^{m-x}}\\\\\n",
        "\\mathrm{Gumbel}_l &\\mathrm{pdf}(\\text{loc}=m, \\text{scale}=1) = e^{m+x-e^{m+x}}\\\\\n",
        "\\mathrm{Gumbel}_l &\\mathrm{CDF}(\\text{loc}=m, \\text{scale}=1) = 1-e^{-e^{m+x}}\n",
        "\\end{aligned}\n",
        "$$"
      ]
    }
  ],
  "metadata": {
    "kernelspec": {
      "display_name": "Python 3 (ipykernel)",
      "language": "python",
      "name": "python3",
      "path": "/Users/j/priority/.venv/share/jupyter/kernels/python3"
    },
    "language_info": {
      "codemirror_mode": {
        "name": "ipython",
        "version": 3
      },
      "file_extension": ".py",
      "mimetype": "text/x-python",
      "name": "python",
      "nbconvert_exporter": "python",
      "pygments_lexer": "ipython3",
      "version": "3.13.1"
    }
  },
  "nbformat": 4,
  "nbformat_minor": 4
}
